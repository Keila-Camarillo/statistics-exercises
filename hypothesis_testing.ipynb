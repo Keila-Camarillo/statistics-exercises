{
 "cells": [
  {
   "cell_type": "code",
   "execution_count": 163,
   "id": "4f3be5b2",
   "metadata": {},
   "outputs": [],
   "source": [
    "import matplotlib.pyplot as plt\n",
    "import numpy as np\n",
    "from scipy import stats\n",
    "import seaborn as sns\n",
    "import pydataset as data\n"
   ]
  },
  {
   "cell_type": "markdown",
   "id": "8a3bd4cb",
   "metadata": {},
   "source": [
    "Has the network latency gone up since we switched internet service providers?\n"
   ]
  },
  {
   "cell_type": "markdown",
   "id": "7d77419c",
   "metadata": {},
   "source": [
    "- (null hypothesis) No the network latency has not changed\n",
    "- (a hypothesis) Yes the network latency has changed\n",
    "- (true positive) Has changed but really didnt\n",
    "- (true negative) Has not changed but really did change"
   ]
  },
  {
   "cell_type": "markdown",
   "id": "fa8480d9",
   "metadata": {},
   "source": [
    "Is the website redesign any good?"
   ]
  },
  {
   "cell_type": "markdown",
   "id": "4ed83e74",
   "metadata": {},
   "source": [
    "- (null hypothesis) Yes the redsign is good\n",
    "- (a hypothesis) No the redesign isn't good\n",
    "- (true positive) Redesign isn't good but really is\n",
    "- (true negative) Redesign is good but really isn't"
   ]
  },
  {
   "cell_type": "markdown",
   "id": "ab36534f",
   "metadata": {},
   "source": [
    "Is our television ad driving more sales?"
   ]
  },
  {
   "cell_type": "markdown",
   "id": "8750a290",
   "metadata": {},
   "source": [
    "- (null hypothesis) Yes the ad is driving sales\n",
    "- (a hypothesis) No the ad isn't driving sales\n",
    "- (true positive) Ad isn't driving sales but really is\n",
    "- (true negative) Ad is driving but really isn't"
   ]
  },
  {
   "cell_type": "markdown",
   "id": "819aa4a0",
   "metadata": {},
   "source": [
    "### Comparison of Means (Exercises)"
   ]
  },
  {
   "cell_type": "markdown",
   "id": "59e5286c",
   "metadata": {},
   "source": [
    "1. Answer with the type of test you would use (assume normal distribution):"
   ]
  },
  {
   "cell_type": "markdown",
   "id": "186e91b4",
   "metadata": {},
   "source": [
    "* Is there a difference in grades of students on the second floor compared to grades of all students?\n"
   ]
  },
  {
   "cell_type": "markdown",
   "id": "c0af0876",
   "metadata": {},
   "source": [
    "One Sample T-Test (two tailed)"
   ]
  },
  {
   "cell_type": "markdown",
   "id": "1742e5f1",
   "metadata": {},
   "source": [
    "* Are adults who drink milk taller than adults who dont drink milk?\n"
   ]
  },
  {
   "cell_type": "markdown",
   "id": "9396e971",
   "metadata": {},
   "source": [
    "Independent T-Test (one tailed)"
   ]
  },
  {
   "cell_type": "markdown",
   "id": "30b9755f",
   "metadata": {},
   "source": [
    "* Is the the price of gas higher in texas or in new mexico?"
   ]
  },
  {
   "cell_type": "markdown",
   "id": "22aadb7f",
   "metadata": {},
   "source": [
    "Independent T-Test (one tailed)"
   ]
  },
  {
   "cell_type": "markdown",
   "id": "8e362b47",
   "metadata": {},
   "source": [
    "* Are there differences in stress levels between students who take data science \n",
    "vs students who take web development vs students who take cloud academy?"
   ]
  },
  {
   "cell_type": "markdown",
   "id": "790c36a5",
   "metadata": {},
   "source": [
    "ANOVA (two tailed)"
   ]
  },
  {
   "cell_type": "markdown",
   "id": "8721e204",
   "metadata": {},
   "source": [
    "2. Ace Realty wants to determine whether the average time it takes to sell homes is different for its two offices. A sample of 40 sales from office #1 revealed a mean of 90 days and a standard deviation of 15 days. A sample of 50 sales from office #2 revealed a mean of 100 days and a standard deviation of 20 days. Use a .05 level of significance."
   ]
  },
  {
   "cell_type": "code",
   "execution_count": 169,
   "id": "bd06456f",
   "metadata": {},
   "outputs": [],
   "source": [
    "# Is there a difference in the average time to sell a home for office #1 and office #2 \n",
    "# comparing two different independent groups (Independet T-Test)\n",
    "# We just want to see if theres a difference no direction (one tailed)\n",
    "# null hypothesis = office 1 and office 2 do not have different average sell times\n",
    "# alternate hypothesis = office 1 and office 2 have different average sell times"
   ]
  },
  {
   "cell_type": "code",
   "execution_count": 170,
   "id": "74f16deb",
   "metadata": {},
   "outputs": [],
   "source": [
    "alpha = 0.05\n",
    "# 40 sales\n",
    "office_1_avg = 90 \n",
    "office_1_std = 15\n",
    "# 50 sales\n",
    "office_2_avg = 100\n",
    "office_2_std = 20\n"
   ]
  },
  {
   "cell_type": "code",
   "execution_count": 181,
   "id": "adb9f924",
   "metadata": {},
   "outputs": [],
   "source": [
    "office_one = stats.norm(office_1_avg, office_1_std).rvs(40)\n",
    "office_two = stats.norm(office_2_avg, office_2_std).rvs(50)"
   ]
  },
  {
   "cell_type": "code",
   "execution_count": 184,
   "id": "6e7e83a4",
   "metadata": {},
   "outputs": [
    {
     "data": {
      "text/plain": [
       "array([ 73.88615645,  46.89537738, 118.25030998,  90.34239951,\n",
       "        84.93723493, 109.41931414,  98.47067491,  86.00433602,\n",
       "        80.15830154,  88.92818791, 106.95674981,  74.20676827,\n",
       "        95.1884391 , 108.20839295,  75.24416207, 104.19186479,\n",
       "        72.57889871,  68.01459023,  85.93587564,  77.13451955,\n",
       "        83.63325242,  92.66433592,  86.88728711,  99.00896364,\n",
       "       116.1464659 ,  92.71759269,  98.11713659,  93.84458584,\n",
       "        95.58926261,  84.41467485,  95.79608984,  71.74821789,\n",
       "       115.06892871,  83.70804383,  65.81292792,  93.06643659,\n",
       "        86.49466911,  58.92577615,  87.95656308,  55.1351899 ])"
      ]
     },
     "execution_count": 184,
     "metadata": {},
     "output_type": "execute_result"
    }
   ],
   "source": [
    "office_one"
   ]
  },
  {
   "cell_type": "code",
   "execution_count": 197,
   "id": "748d5058",
   "metadata": {},
   "outputs": [
    {
     "data": {
      "text/plain": [
       "array([ 73.59718475,  91.64072514,  94.91713823, 113.27691296,\n",
       "       107.05903424,  81.22551231, 111.44421059,  92.21583429,\n",
       "       113.79563221,  98.13268658, 100.55037746,  83.14464237,\n",
       "       104.01528315, 112.33356079,  63.94381988, 113.72576298,\n",
       "        48.47853326,  70.41337339, 121.88062406,  92.04013636,\n",
       "       102.62049268, 155.89237071,  76.69957176, 109.07090932,\n",
       "       103.93772377,  87.33805455,  95.02339914, 148.7182225 ,\n",
       "        99.02047734, 121.63750729,  97.3652554 ,  80.60338977,\n",
       "       101.4421638 ,  94.99998844,  80.9098922 ,  83.859178  ,\n",
       "       125.10304241, 106.29295721,  64.82546778,  53.30560901,\n",
       "        99.32011877, 112.92432869, 133.02891956,  73.27441777,\n",
       "       121.09161391,  69.45698696,  79.50299259, 102.32518669,\n",
       "        97.854434  , 102.26865945])"
      ]
     },
     "execution_count": 197,
     "metadata": {},
     "output_type": "execute_result"
    }
   ],
   "source": [
    "office_two"
   ]
  },
  {
   "cell_type": "code",
   "execution_count": 201,
   "id": "9c45b057",
   "metadata": {},
   "outputs": [],
   "source": [
    "stat, p_val = stats.levene(office_one, office_two)"
   ]
  },
  {
   "cell_type": "code",
   "execution_count": 203,
   "id": "ccbb5955",
   "metadata": {},
   "outputs": [
    {
     "data": {
      "text/plain": [
       "(2.136872393553811, 0.1473567181306041)"
      ]
     },
     "execution_count": 203,
     "metadata": {},
     "output_type": "execute_result"
    }
   ],
   "source": [
    "stat, p_val"
   ]
  },
  {
   "cell_type": "code",
   "execution_count": 204,
   "id": "c0595a95",
   "metadata": {},
   "outputs": [
    {
     "data": {
      "text/plain": [
       "(-2.3708499791749387, 0.019930189719280452)"
      ]
     },
     "execution_count": 204,
     "metadata": {},
     "output_type": "execute_result"
    }
   ],
   "source": [
    "t, p = stats.ttest_ind(office_one, office_two)\n",
    "t, p"
   ]
  },
  {
   "cell_type": "code",
   "execution_count": 205,
   "id": "efc3ff17",
   "metadata": {},
   "outputs": [
    {
     "name": "stdout",
     "output_type": "stream",
     "text": [
      "We can reject null hypothesis\n"
     ]
    }
   ],
   "source": [
    "if p/2 < alpha:\n",
    "    print(\"We can reject null hypothesis\")\n",
    "else:\n",
    "    print(\"We fail to reject hypothesis\")"
   ]
  },
  {
   "cell_type": "code",
   "execution_count": 206,
   "id": "b54d45b6",
   "metadata": {},
   "outputs": [
    {
     "data": {
      "text/plain": [
       "Ttest_indResult(statistic=-2.7091418459143854, pvalue=0.00811206270346016)"
      ]
     },
     "execution_count": 206,
     "metadata": {},
     "output_type": "execute_result"
    }
   ],
   "source": [
    "stats.ttest_ind_from_stats(90,15,40,100,20,50, equal_var=False)"
   ]
  },
  {
   "cell_type": "markdown",
   "id": "4327a1ea",
   "metadata": {},
   "source": [
    "3. Load the mpg dataset and use it to answer the following questions:"
   ]
  },
  {
   "cell_type": "code",
   "execution_count": 207,
   "id": "a964cabc",
   "metadata": {},
   "outputs": [],
   "source": [
    "mpg = data.data(\"mpg\")"
   ]
  },
  {
   "cell_type": "code",
   "execution_count": 208,
   "id": "bad9f648",
   "metadata": {},
   "outputs": [
    {
     "data": {
      "text/html": [
       "<div>\n",
       "<style scoped>\n",
       "    .dataframe tbody tr th:only-of-type {\n",
       "        vertical-align: middle;\n",
       "    }\n",
       "\n",
       "    .dataframe tbody tr th {\n",
       "        vertical-align: top;\n",
       "    }\n",
       "\n",
       "    .dataframe thead th {\n",
       "        text-align: right;\n",
       "    }\n",
       "</style>\n",
       "<table border=\"1\" class=\"dataframe\">\n",
       "  <thead>\n",
       "    <tr style=\"text-align: right;\">\n",
       "      <th></th>\n",
       "      <th>manufacturer</th>\n",
       "      <th>model</th>\n",
       "      <th>displ</th>\n",
       "      <th>year</th>\n",
       "      <th>cyl</th>\n",
       "      <th>trans</th>\n",
       "      <th>drv</th>\n",
       "      <th>cty</th>\n",
       "      <th>hwy</th>\n",
       "      <th>fl</th>\n",
       "      <th>class</th>\n",
       "    </tr>\n",
       "  </thead>\n",
       "  <tbody>\n",
       "    <tr>\n",
       "      <th>1</th>\n",
       "      <td>audi</td>\n",
       "      <td>a4</td>\n",
       "      <td>1.8</td>\n",
       "      <td>1999</td>\n",
       "      <td>4</td>\n",
       "      <td>auto(l5)</td>\n",
       "      <td>f</td>\n",
       "      <td>18</td>\n",
       "      <td>29</td>\n",
       "      <td>p</td>\n",
       "      <td>compact</td>\n",
       "    </tr>\n",
       "    <tr>\n",
       "      <th>2</th>\n",
       "      <td>audi</td>\n",
       "      <td>a4</td>\n",
       "      <td>1.8</td>\n",
       "      <td>1999</td>\n",
       "      <td>4</td>\n",
       "      <td>manual(m5)</td>\n",
       "      <td>f</td>\n",
       "      <td>21</td>\n",
       "      <td>29</td>\n",
       "      <td>p</td>\n",
       "      <td>compact</td>\n",
       "    </tr>\n",
       "    <tr>\n",
       "      <th>3</th>\n",
       "      <td>audi</td>\n",
       "      <td>a4</td>\n",
       "      <td>2.0</td>\n",
       "      <td>2008</td>\n",
       "      <td>4</td>\n",
       "      <td>manual(m6)</td>\n",
       "      <td>f</td>\n",
       "      <td>20</td>\n",
       "      <td>31</td>\n",
       "      <td>p</td>\n",
       "      <td>compact</td>\n",
       "    </tr>\n",
       "    <tr>\n",
       "      <th>4</th>\n",
       "      <td>audi</td>\n",
       "      <td>a4</td>\n",
       "      <td>2.0</td>\n",
       "      <td>2008</td>\n",
       "      <td>4</td>\n",
       "      <td>auto(av)</td>\n",
       "      <td>f</td>\n",
       "      <td>21</td>\n",
       "      <td>30</td>\n",
       "      <td>p</td>\n",
       "      <td>compact</td>\n",
       "    </tr>\n",
       "    <tr>\n",
       "      <th>5</th>\n",
       "      <td>audi</td>\n",
       "      <td>a4</td>\n",
       "      <td>2.8</td>\n",
       "      <td>1999</td>\n",
       "      <td>6</td>\n",
       "      <td>auto(l5)</td>\n",
       "      <td>f</td>\n",
       "      <td>16</td>\n",
       "      <td>26</td>\n",
       "      <td>p</td>\n",
       "      <td>compact</td>\n",
       "    </tr>\n",
       "    <tr>\n",
       "      <th>...</th>\n",
       "      <td>...</td>\n",
       "      <td>...</td>\n",
       "      <td>...</td>\n",
       "      <td>...</td>\n",
       "      <td>...</td>\n",
       "      <td>...</td>\n",
       "      <td>...</td>\n",
       "      <td>...</td>\n",
       "      <td>...</td>\n",
       "      <td>...</td>\n",
       "      <td>...</td>\n",
       "    </tr>\n",
       "    <tr>\n",
       "      <th>230</th>\n",
       "      <td>volkswagen</td>\n",
       "      <td>passat</td>\n",
       "      <td>2.0</td>\n",
       "      <td>2008</td>\n",
       "      <td>4</td>\n",
       "      <td>auto(s6)</td>\n",
       "      <td>f</td>\n",
       "      <td>19</td>\n",
       "      <td>28</td>\n",
       "      <td>p</td>\n",
       "      <td>midsize</td>\n",
       "    </tr>\n",
       "    <tr>\n",
       "      <th>231</th>\n",
       "      <td>volkswagen</td>\n",
       "      <td>passat</td>\n",
       "      <td>2.0</td>\n",
       "      <td>2008</td>\n",
       "      <td>4</td>\n",
       "      <td>manual(m6)</td>\n",
       "      <td>f</td>\n",
       "      <td>21</td>\n",
       "      <td>29</td>\n",
       "      <td>p</td>\n",
       "      <td>midsize</td>\n",
       "    </tr>\n",
       "    <tr>\n",
       "      <th>232</th>\n",
       "      <td>volkswagen</td>\n",
       "      <td>passat</td>\n",
       "      <td>2.8</td>\n",
       "      <td>1999</td>\n",
       "      <td>6</td>\n",
       "      <td>auto(l5)</td>\n",
       "      <td>f</td>\n",
       "      <td>16</td>\n",
       "      <td>26</td>\n",
       "      <td>p</td>\n",
       "      <td>midsize</td>\n",
       "    </tr>\n",
       "    <tr>\n",
       "      <th>233</th>\n",
       "      <td>volkswagen</td>\n",
       "      <td>passat</td>\n",
       "      <td>2.8</td>\n",
       "      <td>1999</td>\n",
       "      <td>6</td>\n",
       "      <td>manual(m5)</td>\n",
       "      <td>f</td>\n",
       "      <td>18</td>\n",
       "      <td>26</td>\n",
       "      <td>p</td>\n",
       "      <td>midsize</td>\n",
       "    </tr>\n",
       "    <tr>\n",
       "      <th>234</th>\n",
       "      <td>volkswagen</td>\n",
       "      <td>passat</td>\n",
       "      <td>3.6</td>\n",
       "      <td>2008</td>\n",
       "      <td>6</td>\n",
       "      <td>auto(s6)</td>\n",
       "      <td>f</td>\n",
       "      <td>17</td>\n",
       "      <td>26</td>\n",
       "      <td>p</td>\n",
       "      <td>midsize</td>\n",
       "    </tr>\n",
       "  </tbody>\n",
       "</table>\n",
       "<p>234 rows × 11 columns</p>\n",
       "</div>"
      ],
      "text/plain": [
       "    manufacturer   model  displ  year  cyl       trans drv  cty  hwy fl  \\\n",
       "1           audi      a4    1.8  1999    4    auto(l5)   f   18   29  p   \n",
       "2           audi      a4    1.8  1999    4  manual(m5)   f   21   29  p   \n",
       "3           audi      a4    2.0  2008    4  manual(m6)   f   20   31  p   \n",
       "4           audi      a4    2.0  2008    4    auto(av)   f   21   30  p   \n",
       "5           audi      a4    2.8  1999    6    auto(l5)   f   16   26  p   \n",
       "..           ...     ...    ...   ...  ...         ...  ..  ...  ... ..   \n",
       "230   volkswagen  passat    2.0  2008    4    auto(s6)   f   19   28  p   \n",
       "231   volkswagen  passat    2.0  2008    4  manual(m6)   f   21   29  p   \n",
       "232   volkswagen  passat    2.8  1999    6    auto(l5)   f   16   26  p   \n",
       "233   volkswagen  passat    2.8  1999    6  manual(m5)   f   18   26  p   \n",
       "234   volkswagen  passat    3.6  2008    6    auto(s6)   f   17   26  p   \n",
       "\n",
       "       class  \n",
       "1    compact  \n",
       "2    compact  \n",
       "3    compact  \n",
       "4    compact  \n",
       "5    compact  \n",
       "..       ...  \n",
       "230  midsize  \n",
       "231  midsize  \n",
       "232  midsize  \n",
       "233  midsize  \n",
       "234  midsize  \n",
       "\n",
       "[234 rows x 11 columns]"
      ]
     },
     "execution_count": 208,
     "metadata": {},
     "output_type": "execute_result"
    }
   ],
   "source": [
    "mpg"
   ]
  },
  {
   "cell_type": "markdown",
   "id": "6c3f1cca",
   "metadata": {},
   "source": [
    "* Is there a difference in fuel-efficiency in cars from 2008 vs 1999?"
   ]
  },
  {
   "cell_type": "code",
   "execution_count": 49,
   "id": "81fa159e",
   "metadata": {},
   "outputs": [],
   "source": [
    "#  The difference (two tailed) of the two independent means 2008(mpg avg) 1999(mpg avg) (Independent T-Test)\n",
    "# Null hypothesis = There is no difference between the 2008 fuel efficiency and 1999 fuel efficiency\n",
    "# Alternate hypothesis = There is a difference between the 2008 fuel efficiency and 1999 fuel efficiency"
   ]
  },
  {
   "cell_type": "code",
   "execution_count": 210,
   "id": "6e93b796",
   "metadata": {},
   "outputs": [],
   "source": [
    "mpg[\"fuel_avg\"] = (mpg[\"cty\"] + mpg[\"hwy\"])/2"
   ]
  },
  {
   "cell_type": "markdown",
   "id": "931927d0",
   "metadata": {},
   "source": [
    "# Different types of means (harmonic mean)"
   ]
  },
  {
   "cell_type": "code",
   "execution_count": 212,
   "id": "e7616db7",
   "metadata": {},
   "outputs": [
    {
     "data": {
      "text/html": [
       "<div>\n",
       "<style scoped>\n",
       "    .dataframe tbody tr th:only-of-type {\n",
       "        vertical-align: middle;\n",
       "    }\n",
       "\n",
       "    .dataframe tbody tr th {\n",
       "        vertical-align: top;\n",
       "    }\n",
       "\n",
       "    .dataframe thead th {\n",
       "        text-align: right;\n",
       "    }\n",
       "</style>\n",
       "<table border=\"1\" class=\"dataframe\">\n",
       "  <thead>\n",
       "    <tr style=\"text-align: right;\">\n",
       "      <th></th>\n",
       "      <th>manufacturer</th>\n",
       "      <th>model</th>\n",
       "      <th>displ</th>\n",
       "      <th>year</th>\n",
       "      <th>cyl</th>\n",
       "      <th>trans</th>\n",
       "      <th>drv</th>\n",
       "      <th>cty</th>\n",
       "      <th>hwy</th>\n",
       "      <th>fl</th>\n",
       "      <th>class</th>\n",
       "      <th>avg_fe</th>\n",
       "      <th>fuel_avg</th>\n",
       "    </tr>\n",
       "  </thead>\n",
       "  <tbody>\n",
       "    <tr>\n",
       "      <th>1</th>\n",
       "      <td>audi</td>\n",
       "      <td>a4</td>\n",
       "      <td>1.8</td>\n",
       "      <td>1999</td>\n",
       "      <td>4</td>\n",
       "      <td>auto(l5)</td>\n",
       "      <td>f</td>\n",
       "      <td>18</td>\n",
       "      <td>29</td>\n",
       "      <td>p</td>\n",
       "      <td>compact</td>\n",
       "      <td>22.212766</td>\n",
       "      <td>23.5</td>\n",
       "    </tr>\n",
       "    <tr>\n",
       "      <th>2</th>\n",
       "      <td>audi</td>\n",
       "      <td>a4</td>\n",
       "      <td>1.8</td>\n",
       "      <td>1999</td>\n",
       "      <td>4</td>\n",
       "      <td>manual(m5)</td>\n",
       "      <td>f</td>\n",
       "      <td>21</td>\n",
       "      <td>29</td>\n",
       "      <td>p</td>\n",
       "      <td>compact</td>\n",
       "      <td>24.360000</td>\n",
       "      <td>25.0</td>\n",
       "    </tr>\n",
       "    <tr>\n",
       "      <th>3</th>\n",
       "      <td>audi</td>\n",
       "      <td>a4</td>\n",
       "      <td>2.0</td>\n",
       "      <td>2008</td>\n",
       "      <td>4</td>\n",
       "      <td>manual(m6)</td>\n",
       "      <td>f</td>\n",
       "      <td>20</td>\n",
       "      <td>31</td>\n",
       "      <td>p</td>\n",
       "      <td>compact</td>\n",
       "      <td>24.313725</td>\n",
       "      <td>25.5</td>\n",
       "    </tr>\n",
       "    <tr>\n",
       "      <th>4</th>\n",
       "      <td>audi</td>\n",
       "      <td>a4</td>\n",
       "      <td>2.0</td>\n",
       "      <td>2008</td>\n",
       "      <td>4</td>\n",
       "      <td>auto(av)</td>\n",
       "      <td>f</td>\n",
       "      <td>21</td>\n",
       "      <td>30</td>\n",
       "      <td>p</td>\n",
       "      <td>compact</td>\n",
       "      <td>24.705882</td>\n",
       "      <td>25.5</td>\n",
       "    </tr>\n",
       "    <tr>\n",
       "      <th>5</th>\n",
       "      <td>audi</td>\n",
       "      <td>a4</td>\n",
       "      <td>2.8</td>\n",
       "      <td>1999</td>\n",
       "      <td>6</td>\n",
       "      <td>auto(l5)</td>\n",
       "      <td>f</td>\n",
       "      <td>16</td>\n",
       "      <td>26</td>\n",
       "      <td>p</td>\n",
       "      <td>compact</td>\n",
       "      <td>19.809524</td>\n",
       "      <td>21.0</td>\n",
       "    </tr>\n",
       "  </tbody>\n",
       "</table>\n",
       "</div>"
      ],
      "text/plain": [
       "  manufacturer model  displ  year  cyl       trans drv  cty  hwy fl    class  \\\n",
       "1         audi    a4    1.8  1999    4    auto(l5)   f   18   29  p  compact   \n",
       "2         audi    a4    1.8  1999    4  manual(m5)   f   21   29  p  compact   \n",
       "3         audi    a4    2.0  2008    4  manual(m6)   f   20   31  p  compact   \n",
       "4         audi    a4    2.0  2008    4    auto(av)   f   21   30  p  compact   \n",
       "5         audi    a4    2.8  1999    6    auto(l5)   f   16   26  p  compact   \n",
       "\n",
       "      avg_fe  fuel_avg  \n",
       "1  22.212766      23.5  \n",
       "2  24.360000      25.0  \n",
       "3  24.313725      25.5  \n",
       "4  24.705882      25.5  \n",
       "5  19.809524      21.0  "
      ]
     },
     "execution_count": 212,
     "metadata": {},
     "output_type": "execute_result"
    }
   ],
   "source": [
    "mpg[\"avg_fe\"] = stats.hmean(mpg[[\"cty\", \"hwy\"]], axis=1)\n",
    "mpg.head()"
   ]
  },
  {
   "cell_type": "code",
   "execution_count": 213,
   "id": "52bccc23",
   "metadata": {},
   "outputs": [
    {
     "data": {
      "text/html": [
       "<div>\n",
       "<style scoped>\n",
       "    .dataframe tbody tr th:only-of-type {\n",
       "        vertical-align: middle;\n",
       "    }\n",
       "\n",
       "    .dataframe tbody tr th {\n",
       "        vertical-align: top;\n",
       "    }\n",
       "\n",
       "    .dataframe thead th {\n",
       "        text-align: right;\n",
       "    }\n",
       "</style>\n",
       "<table border=\"1\" class=\"dataframe\">\n",
       "  <thead>\n",
       "    <tr style=\"text-align: right;\">\n",
       "      <th></th>\n",
       "      <th>manufacturer</th>\n",
       "      <th>model</th>\n",
       "      <th>displ</th>\n",
       "      <th>year</th>\n",
       "      <th>cyl</th>\n",
       "      <th>trans</th>\n",
       "      <th>drv</th>\n",
       "      <th>cty</th>\n",
       "      <th>hwy</th>\n",
       "      <th>fl</th>\n",
       "      <th>class</th>\n",
       "      <th>avg_fe</th>\n",
       "      <th>fuel_avg</th>\n",
       "    </tr>\n",
       "  </thead>\n",
       "  <tbody>\n",
       "    <tr>\n",
       "      <th>1</th>\n",
       "      <td>audi</td>\n",
       "      <td>a4</td>\n",
       "      <td>1.8</td>\n",
       "      <td>1999</td>\n",
       "      <td>4</td>\n",
       "      <td>auto(l5)</td>\n",
       "      <td>f</td>\n",
       "      <td>18</td>\n",
       "      <td>29</td>\n",
       "      <td>p</td>\n",
       "      <td>compact</td>\n",
       "      <td>22.212766</td>\n",
       "      <td>23.5</td>\n",
       "    </tr>\n",
       "    <tr>\n",
       "      <th>2</th>\n",
       "      <td>audi</td>\n",
       "      <td>a4</td>\n",
       "      <td>1.8</td>\n",
       "      <td>1999</td>\n",
       "      <td>4</td>\n",
       "      <td>manual(m5)</td>\n",
       "      <td>f</td>\n",
       "      <td>21</td>\n",
       "      <td>29</td>\n",
       "      <td>p</td>\n",
       "      <td>compact</td>\n",
       "      <td>24.360000</td>\n",
       "      <td>25.0</td>\n",
       "    </tr>\n",
       "    <tr>\n",
       "      <th>3</th>\n",
       "      <td>audi</td>\n",
       "      <td>a4</td>\n",
       "      <td>2.0</td>\n",
       "      <td>2008</td>\n",
       "      <td>4</td>\n",
       "      <td>manual(m6)</td>\n",
       "      <td>f</td>\n",
       "      <td>20</td>\n",
       "      <td>31</td>\n",
       "      <td>p</td>\n",
       "      <td>compact</td>\n",
       "      <td>24.313725</td>\n",
       "      <td>25.5</td>\n",
       "    </tr>\n",
       "    <tr>\n",
       "      <th>4</th>\n",
       "      <td>audi</td>\n",
       "      <td>a4</td>\n",
       "      <td>2.0</td>\n",
       "      <td>2008</td>\n",
       "      <td>4</td>\n",
       "      <td>auto(av)</td>\n",
       "      <td>f</td>\n",
       "      <td>21</td>\n",
       "      <td>30</td>\n",
       "      <td>p</td>\n",
       "      <td>compact</td>\n",
       "      <td>24.705882</td>\n",
       "      <td>25.5</td>\n",
       "    </tr>\n",
       "    <tr>\n",
       "      <th>5</th>\n",
       "      <td>audi</td>\n",
       "      <td>a4</td>\n",
       "      <td>2.8</td>\n",
       "      <td>1999</td>\n",
       "      <td>6</td>\n",
       "      <td>auto(l5)</td>\n",
       "      <td>f</td>\n",
       "      <td>16</td>\n",
       "      <td>26</td>\n",
       "      <td>p</td>\n",
       "      <td>compact</td>\n",
       "      <td>19.809524</td>\n",
       "      <td>21.0</td>\n",
       "    </tr>\n",
       "    <tr>\n",
       "      <th>...</th>\n",
       "      <td>...</td>\n",
       "      <td>...</td>\n",
       "      <td>...</td>\n",
       "      <td>...</td>\n",
       "      <td>...</td>\n",
       "      <td>...</td>\n",
       "      <td>...</td>\n",
       "      <td>...</td>\n",
       "      <td>...</td>\n",
       "      <td>...</td>\n",
       "      <td>...</td>\n",
       "      <td>...</td>\n",
       "      <td>...</td>\n",
       "    </tr>\n",
       "    <tr>\n",
       "      <th>230</th>\n",
       "      <td>volkswagen</td>\n",
       "      <td>passat</td>\n",
       "      <td>2.0</td>\n",
       "      <td>2008</td>\n",
       "      <td>4</td>\n",
       "      <td>auto(s6)</td>\n",
       "      <td>f</td>\n",
       "      <td>19</td>\n",
       "      <td>28</td>\n",
       "      <td>p</td>\n",
       "      <td>midsize</td>\n",
       "      <td>22.638298</td>\n",
       "      <td>23.5</td>\n",
       "    </tr>\n",
       "    <tr>\n",
       "      <th>231</th>\n",
       "      <td>volkswagen</td>\n",
       "      <td>passat</td>\n",
       "      <td>2.0</td>\n",
       "      <td>2008</td>\n",
       "      <td>4</td>\n",
       "      <td>manual(m6)</td>\n",
       "      <td>f</td>\n",
       "      <td>21</td>\n",
       "      <td>29</td>\n",
       "      <td>p</td>\n",
       "      <td>midsize</td>\n",
       "      <td>24.360000</td>\n",
       "      <td>25.0</td>\n",
       "    </tr>\n",
       "    <tr>\n",
       "      <th>232</th>\n",
       "      <td>volkswagen</td>\n",
       "      <td>passat</td>\n",
       "      <td>2.8</td>\n",
       "      <td>1999</td>\n",
       "      <td>6</td>\n",
       "      <td>auto(l5)</td>\n",
       "      <td>f</td>\n",
       "      <td>16</td>\n",
       "      <td>26</td>\n",
       "      <td>p</td>\n",
       "      <td>midsize</td>\n",
       "      <td>19.809524</td>\n",
       "      <td>21.0</td>\n",
       "    </tr>\n",
       "    <tr>\n",
       "      <th>233</th>\n",
       "      <td>volkswagen</td>\n",
       "      <td>passat</td>\n",
       "      <td>2.8</td>\n",
       "      <td>1999</td>\n",
       "      <td>6</td>\n",
       "      <td>manual(m5)</td>\n",
       "      <td>f</td>\n",
       "      <td>18</td>\n",
       "      <td>26</td>\n",
       "      <td>p</td>\n",
       "      <td>midsize</td>\n",
       "      <td>21.272727</td>\n",
       "      <td>22.0</td>\n",
       "    </tr>\n",
       "    <tr>\n",
       "      <th>234</th>\n",
       "      <td>volkswagen</td>\n",
       "      <td>passat</td>\n",
       "      <td>3.6</td>\n",
       "      <td>2008</td>\n",
       "      <td>6</td>\n",
       "      <td>auto(s6)</td>\n",
       "      <td>f</td>\n",
       "      <td>17</td>\n",
       "      <td>26</td>\n",
       "      <td>p</td>\n",
       "      <td>midsize</td>\n",
       "      <td>20.558140</td>\n",
       "      <td>21.5</td>\n",
       "    </tr>\n",
       "  </tbody>\n",
       "</table>\n",
       "<p>234 rows × 13 columns</p>\n",
       "</div>"
      ],
      "text/plain": [
       "    manufacturer   model  displ  year  cyl       trans drv  cty  hwy fl  \\\n",
       "1           audi      a4    1.8  1999    4    auto(l5)   f   18   29  p   \n",
       "2           audi      a4    1.8  1999    4  manual(m5)   f   21   29  p   \n",
       "3           audi      a4    2.0  2008    4  manual(m6)   f   20   31  p   \n",
       "4           audi      a4    2.0  2008    4    auto(av)   f   21   30  p   \n",
       "5           audi      a4    2.8  1999    6    auto(l5)   f   16   26  p   \n",
       "..           ...     ...    ...   ...  ...         ...  ..  ...  ... ..   \n",
       "230   volkswagen  passat    2.0  2008    4    auto(s6)   f   19   28  p   \n",
       "231   volkswagen  passat    2.0  2008    4  manual(m6)   f   21   29  p   \n",
       "232   volkswagen  passat    2.8  1999    6    auto(l5)   f   16   26  p   \n",
       "233   volkswagen  passat    2.8  1999    6  manual(m5)   f   18   26  p   \n",
       "234   volkswagen  passat    3.6  2008    6    auto(s6)   f   17   26  p   \n",
       "\n",
       "       class     avg_fe  fuel_avg  \n",
       "1    compact  22.212766      23.5  \n",
       "2    compact  24.360000      25.0  \n",
       "3    compact  24.313725      25.5  \n",
       "4    compact  24.705882      25.5  \n",
       "5    compact  19.809524      21.0  \n",
       "..       ...        ...       ...  \n",
       "230  midsize  22.638298      23.5  \n",
       "231  midsize  24.360000      25.0  \n",
       "232  midsize  19.809524      21.0  \n",
       "233  midsize  21.272727      22.0  \n",
       "234  midsize  20.558140      21.5  \n",
       "\n",
       "[234 rows x 13 columns]"
      ]
     },
     "execution_count": 213,
     "metadata": {},
     "output_type": "execute_result"
    }
   ],
   "source": [
    "mpg"
   ]
  },
  {
   "cell_type": "code",
   "execution_count": 214,
   "id": "90873f11",
   "metadata": {},
   "outputs": [],
   "source": [
    "mpg_08 = mpg[mpg.year == 2008].fuel_avg"
   ]
  },
  {
   "cell_type": "code",
   "execution_count": 66,
   "id": "db1bf8dd",
   "metadata": {},
   "outputs": [
    {
     "data": {
      "image/png": "[encoded data removed]",
      "text/plain": [
       "<Figure size 640x480 with 1 Axes>"
      ]
     },
     "metadata": {},
     "output_type": "display_data"
    }
   ],
   "source": [
    "mpg_08.hist()\n",
    "plot.show()\n"
   ]
  },
  {
   "cell_type": "code",
   "execution_count": 218,
   "id": "d90f4035",
   "metadata": {},
   "outputs": [],
   "source": [
    "mpg_99 = mpg[mpg.year == 1999].fuel_avg"
   ]
  },
  {
   "cell_type": "code",
   "execution_count": 219,
   "id": "fca1b697",
   "metadata": {},
   "outputs": [
    {
     "data": {
      "image/png": "[encoded data removed]",
      "text/plain": [
       "<Figure size 640x480 with 1 Axes>"
      ]
     },
     "metadata": {},
     "output_type": "display_data"
    }
   ],
   "source": [
    "mpg_99.hist()\n",
    "plot.show()"
   ]
  },
  {
   "cell_type": "code",
   "execution_count": 217,
   "id": "551b291f",
   "metadata": {},
   "outputs": [
    {
     "data": {
      "text/plain": [
       "LeveneResult(statistic=0.033228136671080453, pvalue=0.855517569468803)"
      ]
     },
     "execution_count": 217,
     "metadata": {},
     "output_type": "execute_result"
    }
   ],
   "source": [
    "stats.levene(mpg_08, mpg_99)"
   ]
  },
  {
   "cell_type": "code",
   "execution_count": 221,
   "id": "a428d8e4",
   "metadata": {},
   "outputs": [],
   "source": [
    "t, p = stats.ttest_ind(mpg_08, mpg_99)"
   ]
  },
  {
   "cell_type": "code",
   "execution_count": 223,
   "id": "d0f02cdc",
   "metadata": {},
   "outputs": [
    {
     "name": "stdout",
     "output_type": "stream",
     "text": [
      "We fail to reject null hypothesis\n"
     ]
    }
   ],
   "source": [
    "if p/2 < alpha:\n",
    "    print(\"We can reject null hypothesis\")\n",
    "else:\n",
    "    print(\"We fail to reject null hypothesis\")"
   ]
  },
  {
   "cell_type": "markdown",
   "id": "11fcbb7f",
   "metadata": {},
   "source": [
    "* Are compact cars more fuel-efficient than the average car?"
   ]
  },
  {
   "cell_type": "code",
   "execution_count": 224,
   "id": "1395a9f3",
   "metadata": {
    "scrolled": true
   },
   "outputs": [],
   "source": [
    "# do compact cars have greater (one tailed) fuel efficiency than the average car (One sample)\n",
    "# Null hypothesis = There is no difference in fuel efficiency for compact cars and the average car\n",
    "# alternate hypothesis = There is a difference in fuel efficiency for compact cars and the average car\n",
    "#  t > 0 & p/2 < alpha "
   ]
  },
  {
   "cell_type": "code",
   "execution_count": 225,
   "id": "cadae584",
   "metadata": {},
   "outputs": [],
   "source": [
    "compact = mpg[mpg[\"class\"] == \"compact\"].fuel_avg"
   ]
  },
  {
   "cell_type": "code",
   "execution_count": 243,
   "id": "8707ae02",
   "metadata": {},
   "outputs": [
    {
     "data": {
      "text/plain": [
       "<AxesSubplot:>"
      ]
     },
     "execution_count": 243,
     "metadata": {},
     "output_type": "execute_result"
    },
    {
     "data": {
      "image/png": "[encoded data removed]",
      "text/plain": [
       "<Figure size 640x480 with 1 Axes>"
      ]
     },
     "metadata": {},
     "output_type": "display_data"
    }
   ],
   "source": [
    "compact.hist()"
   ]
  },
  {
   "cell_type": "code",
   "execution_count": 245,
   "id": "da0ed88f",
   "metadata": {},
   "outputs": [],
   "source": [
    "vehicles = mpg[\"fuel_avg\"]\n",
    "vehicles_avg = vehicles.mean()"
   ]
  },
  {
   "cell_type": "code",
   "execution_count": 247,
   "id": "93f87b96",
   "metadata": {},
   "outputs": [
    {
     "data": {
      "text/plain": [
       "<AxesSubplot:>"
      ]
     },
     "execution_count": 247,
     "metadata": {},
     "output_type": "execute_result"
    },
    {
     "data": {
      "image/png": "[encoded data removed]",
      "text/plain": [
       "<Figure size 640x480 with 1 Axes>"
      ]
     },
     "metadata": {},
     "output_type": "display_data"
    }
   ],
   "source": [
    "vehicles.hist()"
   ]
  },
  {
   "cell_type": "code",
   "execution_count": 239,
   "id": "5002f48c",
   "metadata": {},
   "outputs": [],
   "source": [
    "t, p = stats.ttest_1samp(compact, vehicles_avg)"
   ]
  },
  {
   "cell_type": "code",
   "execution_count": 248,
   "id": "0ec14b49",
   "metadata": {},
   "outputs": [
    {
     "name": "stdout",
     "output_type": "stream",
     "text": [
      "We reject Null Hypothesis\n"
     ]
    }
   ],
   "source": [
    "if (p/2 < alpha) and (t >  0):\n",
    "    print(\"We reject Null Hypothesis\")\n",
    "else:\n",
    "    print(\"We fail to reject Null Hypothesis\")\n",
    "    \n",
    "    "
   ]
  },
  {
   "cell_type": "markdown",
   "id": "5fc3bbd2",
   "metadata": {},
   "source": [
    "* Do manual cars get better gas mileage than automatic cars?"
   ]
  },
  {
   "cell_type": "markdown",
   "id": "a114e7a8",
   "metadata": {},
   "source": [
    "* Do manual cars have greater (one tailed) fuel average than automatic cars \n",
    "* two independent means (Independent T-Test)\n",
    "* $H_{o}$ = maunaul cars do not have a greater fuel average than automatic cars \n",
    "* $H_{a}$ = maunaul cars do have a greater fuel average than automatic cars "
   ]
  },
  {
   "cell_type": "code",
   "execution_count": null,
   "id": "526dbc68",
   "metadata": {},
   "outputs": [],
   "source": [
    "mpg.trans.unique()"
   ]
  },
  {
   "cell_type": "code",
   "execution_count": 141,
   "id": "7405110f",
   "metadata": {},
   "outputs": [],
   "source": [
    "manual_types = [\"manual(m5)\", \"manual(m6)\"]\n",
    "manual = mpg.loc[mpg[\"trans\"].isin(manual_types)].fuel_avg"
   ]
  },
  {
   "cell_type": "code",
   "execution_count": 142,
   "id": "4576d9a1",
   "metadata": {
    "scrolled": true
   },
   "outputs": [],
   "source": [
    "automatic = mpg.loc[~mpg[\"trans\"].isin(manual_types)].fuel_avg"
   ]
  },
  {
   "cell_type": "code",
   "execution_count": 145,
   "id": "ddacf728",
   "metadata": {},
   "outputs": [
    {
     "data": {
      "image/png": "[encoded data removed]",
      "text/plain": [
       "<Figure size 640x480 with 1 Axes>"
      ]
     },
     "metadata": {},
     "output_type": "display_data"
    }
   ],
   "source": [
    "automatic.hist()\n",
    "plot.show()"
   ]
  },
  {
   "cell_type": "code",
   "execution_count": 146,
   "id": "c58559e6",
   "metadata": {},
   "outputs": [
    {
     "data": {
      "image/png": "[encoded data removed]",
      "text/plain": [
       "<Figure size 640x480 with 1 Axes>"
      ]
     },
     "metadata": {},
     "output_type": "display_data"
    }
   ],
   "source": [
    "manual.hist()\n",
    "plot.show()"
   ]
  },
  {
   "cell_type": "code",
   "execution_count": 149,
   "id": "a0ee328b",
   "metadata": {},
   "outputs": [
    {
     "data": {
      "text/plain": [
       "LeveneResult(statistic=0.20075824847529639, pvalue=0.6545276355131857)"
      ]
     },
     "execution_count": 149,
     "metadata": {},
     "output_type": "execute_result"
    }
   ],
   "source": [
    "#equal variances\n",
    "stats.levene(manual, automatic)"
   ]
  },
  {
   "cell_type": "code",
   "execution_count": 257,
   "id": "eaf93749",
   "metadata": {},
   "outputs": [],
   "source": [
    "t, p = stats.ttest_ind(manual, automatic)"
   ]
  },
  {
   "cell_type": "code",
   "execution_count": 258,
   "id": "5e1f59e0",
   "metadata": {},
   "outputs": [
    {
     "data": {
      "text/plain": [
       "(4.593437735750014, 7.154374401145683e-06)"
      ]
     },
     "execution_count": 258,
     "metadata": {},
     "output_type": "execute_result"
    }
   ],
   "source": [
    "t, p"
   ]
  },
  {
   "cell_type": "code",
   "execution_count": 259,
   "id": "caa9c5b3",
   "metadata": {},
   "outputs": [
    {
     "name": "stdout",
     "output_type": "stream",
     "text": [
      "We reject Null Hypothesis\n"
     ]
    }
   ],
   "source": [
    "if p/2 < alpha:\n",
    "    print(\"We reject Null Hypothesis\")\n",
    "elif t >  0:\n",
    "    print(\"We reject Null Hypothesis\")\n",
    "else:\n",
    "    print(\"We fail to reject Null Hypothesis\")"
   ]
  },
  {
   "cell_type": "code",
   "execution_count": 249,
   "id": "e4e4c74d",
   "metadata": {},
   "outputs": [],
   "source": [
    "#Write with LaTex"
   ]
  },
  {
   "cell_type": "markdown",
   "id": "23768ee4",
   "metadata": {},
   "source": [
    "$H_{o}$\n",
    "$H_{a}$"
   ]
  }
 ],
 "metadata": {
  "kernelspec": {
   "display_name": "Python 3 (ipykernel)",
   "language": "python",
   "name": "python3"
  },
  "language_info": {
   "codemirror_mode": {
    "name": "ipython",
    "version": 3
   },
   "file_extension": ".py",
   "mimetype": "text/x-python",
   "name": "python",
   "nbconvert_exporter": "python",
   "pygments_lexer": "ipython3",
   "version": "3.9.13"
  }
 },
 "nbformat": 4,
 "nbformat_minor": 5
}
