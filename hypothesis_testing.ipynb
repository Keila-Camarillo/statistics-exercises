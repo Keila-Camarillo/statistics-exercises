{
 "cells": [
  {
   "cell_type": "markdown",
   "id": "8a3bd4cb",
   "metadata": {},
   "source": [
    "Has the network latency gone up since we switched internet service providers?\n"
   ]
  },
  {
   "cell_type": "markdown",
   "id": "7d77419c",
   "metadata": {},
   "source": [
    "- (null hypothesis) No the network latency has not changed\n",
    "- (a hypothesis) Yes the network latency has changed\n",
    "- (true positive) Has changed but really didnt\n",
    "- (true negative) Has not changed but really did change"
   ]
  },
  {
   "cell_type": "markdown",
   "id": "fa8480d9",
   "metadata": {},
   "source": [
    "Is the website redesign any good?"
   ]
  },
  {
   "cell_type": "markdown",
   "id": "4ed83e74",
   "metadata": {},
   "source": [
    "- (null hypothesis) Yes the redsign is good\n",
    "- (a hypothesis) No the redesign isn't good\n",
    "- (true positive) Redesign isn't good but really is\n",
    "- (true negative) Redesign is good but really isn't"
   ]
  },
  {
   "cell_type": "markdown",
   "id": "ab36534f",
   "metadata": {},
   "source": [
    "Is our television ad driving more sales?"
   ]
  },
  {
   "cell_type": "markdown",
   "id": "8750a290",
   "metadata": {},
   "source": [
    "- (null hypothesis) Yes the ad is driving sales\n",
    "- (a hypothesis) No the ad isn't driving sales\n",
    "- (true positive) Ad isn't driving sales but really is\n",
    "- (true negative) Ad is driving but really isn't"
   ]
  },
  {
   "cell_type": "code",
   "execution_count": null,
   "id": "cb5f7594",
   "metadata": {},
   "outputs": [],
   "source": []
  }
 ],
 "metadata": {
  "kernelspec": {
   "display_name": "Python 3 (ipykernel)",
   "language": "python",
   "name": "python3"
  },
  "language_info": {
   "codemirror_mode": {
    "name": "ipython",
    "version": 3
   },
   "file_extension": ".py",
   "mimetype": "text/x-python",
   "name": "python",
   "nbconvert_exporter": "python",
   "pygments_lexer": "ipython3",
   "version": "3.9.13"
  }
 },
 "nbformat": 4,
 "nbformat_minor": 5
}
