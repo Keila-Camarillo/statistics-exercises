{
 "cells": [
  {
   "cell_type": "code",
   "execution_count": 122,
   "id": "d8c7d5d2",
   "metadata": {},
   "outputs": [],
   "source": [
    "#standard imports\n",
    "import pandas as pd\n",
    "import numpy as np\n",
    "from scipy import stats\n",
    "import env\n",
    "\n",
    "import matplotlib.pyplot as plt"
   ]
  },
  {
   "cell_type": "code",
   "execution_count": null,
   "id": "5707d25a",
   "metadata": {},
   "outputs": [],
   "source": [
    "# The average battery life for a fully charges iphone-12 is 14 hours with standard deviation of 1.5 hour\n",
    "\n",
    "# What kind of probability distribution represents the random variable \"battery life in hours\"? continous normal distribution\n",
    "# What are the appropriate defining parameters for this distribution? 14 and 1.5 \n",
    "# Create a Scipy object/instance for this distribution\n",
    "# Use the object create above and choose appropriate method (e.g. pmf, cdf, ppf etc.) to calculate the following:\n",
    "#  a. What is the probability the cell phone battery more than 16 hours.  \n",
    "#  b. What is probability that cell phone battery lasts for exactly 12 hours.  \n",
    "#  c. What is the probability that cell phone battery lasts for 12 hours or less.  \n",
    "#  d. How many hours do the battery lasts for top 25% longest lasting phones.   "
   ]
  },
  {
   "cell_type": "code",
   "execution_count": 10,
   "id": "930464b3",
   "metadata": {},
   "outputs": [],
   "source": [
    "\n",
    "mean = 14\n",
    "sd = 1.5"
   ]
  },
  {
   "cell_type": "code",
   "execution_count": 11,
   "id": "5cbfa04b",
   "metadata": {},
   "outputs": [],
   "source": [
    "cell_dist = stats.norm(mean, sd)"
   ]
  },
  {
   "cell_type": "code",
   "execution_count": 12,
   "id": "d162dacf",
   "metadata": {},
   "outputs": [
    {
     "data": {
      "text/plain": [
       "0.09121121972586788"
      ]
     },
     "execution_count": 12,
     "metadata": {},
     "output_type": "execute_result"
    }
   ],
   "source": [
    "cell_dist.sf(16)"
   ]
  },
  {
   "cell_type": "code",
   "execution_count": 13,
   "id": "64ae40ea",
   "metadata": {},
   "outputs": [
    {
     "data": {
      "text/plain": [
       "0.10934004978399577"
      ]
     },
     "execution_count": 13,
     "metadata": {},
     "output_type": "execute_result"
    }
   ],
   "source": [
    "cell_dist.pdf(12)"
   ]
  },
  {
   "cell_type": "code",
   "execution_count": 14,
   "id": "f801e1ab",
   "metadata": {},
   "outputs": [
    {
     "data": {
      "text/plain": [
       "0.09121121972586788"
      ]
     },
     "execution_count": 14,
     "metadata": {},
     "output_type": "execute_result"
    }
   ],
   "source": [
    "cell_dist.cdf(12)"
   ]
  },
  {
   "cell_type": "code",
   "execution_count": 18,
   "id": "819aee3e",
   "metadata": {},
   "outputs": [
    {
     "data": {
      "text/plain": [
       "15.011734625294123"
      ]
     },
     "execution_count": 18,
     "metadata": {},
     "output_type": "execute_result"
    }
   ],
   "source": [
    "cell_dist.isf(1/4)"
   ]
  },
  {
   "cell_type": "code",
   "execution_count": null,
   "id": "a0e811c2",
   "metadata": {},
   "outputs": [],
   "source": [
    "# # A bank found that the average number of cars waiting during the noon hour at a drive-up window \n",
    "# follows a Poisson distribution with a mean of 2 cars. Make a chart of this distribution and answer \n",
    "# these questions concerning the probability of cars waiting at the drive-up window.\n"
   ]
  },
  {
   "cell_type": "code",
   "execution_count": 30,
   "id": "06d13ae7",
   "metadata": {},
   "outputs": [],
   "source": [
    "car_avg = 2 \n"
   ]
  },
  {
   "cell_type": "code",
   "execution_count": 31,
   "id": "2a9e043d",
   "metadata": {},
   "outputs": [],
   "source": [
    "# # What is the probability that no cars drive up in the noon hour? 14% "
   ]
  },
  {
   "cell_type": "code",
   "execution_count": 220,
   "id": "7a7c2c90",
   "metadata": {},
   "outputs": [
    {
     "data": {
      "text/plain": [
       "0.14"
      ]
     },
     "execution_count": 220,
     "metadata": {},
     "output_type": "execute_result"
    }
   ],
   "source": [
    "round(stats.poisson(car_avg).pmf(0), 2)"
   ]
  },
  {
   "cell_type": "code",
   "execution_count": 33,
   "id": "13cadfa4",
   "metadata": {},
   "outputs": [],
   "source": [
    " # # What is the probability that 3 or more cars come through the drive through? 0.32 "
   ]
  },
  {
   "cell_type": "code",
   "execution_count": 221,
   "id": "afdbc094",
   "metadata": {},
   "outputs": [
    {
     "data": {
      "text/plain": [
       "0.32"
      ]
     },
     "execution_count": 221,
     "metadata": {},
     "output_type": "execute_result"
    }
   ],
   "source": [
    "round(stats.poisson(car_avg).sf(2),2)"
   ]
  },
  {
   "cell_type": "code",
   "execution_count": 35,
   "id": "5c3ee380",
   "metadata": {},
   "outputs": [],
   "source": [
    "# # How likely is it that the drive through gets at least 1 car? 0.86"
   ]
  },
  {
   "cell_type": "code",
   "execution_count": 223,
   "id": "5236a07d",
   "metadata": {},
   "outputs": [
    {
     "data": {
      "text/plain": [
       "0.8646647167633873"
      ]
     },
     "execution_count": 223,
     "metadata": {},
     "output_type": "execute_result"
    }
   ],
   "source": [
    "stats.poisson(car_avg).sf(0)"
   ]
  },
  {
   "cell_type": "code",
   "execution_count": 39,
   "id": "53940716",
   "metadata": {},
   "outputs": [],
   "source": [
    "# Grades of State University graduates are normally distributed with a mean of 3.0 \n",
    "# and a standard deviation of .3. Calculate the following:\n",
    "u_mean = 3.0\n",
    "sd = .3 \n",
    "\n",
    "gpa = stats.norm(u_mean, sd)"
   ]
  },
  {
   "cell_type": "code",
   "execution_count": 226,
   "id": "4b11f120",
   "metadata": {},
   "outputs": [
    {
     "data": {
      "text/plain": [
       "3.4934560880854417"
      ]
     },
     "execution_count": 226,
     "metadata": {},
     "output_type": "execute_result"
    }
   ],
   "source": [
    "# What grade point average is required to be in the top 5% of the graduating class?\n",
    "gpa.isf(.05)"
   ]
  },
  {
   "cell_type": "code",
   "execution_count": 48,
   "id": "85de47ca",
   "metadata": {},
   "outputs": [
    {
     "data": {
      "text/plain": [
       "2.689069983151863"
      ]
     },
     "execution_count": 48,
     "metadata": {},
     "output_type": "execute_result"
    }
   ],
   "source": [
    "# What GPA constitutes the bottom 15% of the class?\n",
    "gpa.ppf(.15)"
   ]
  },
  {
   "cell_type": "code",
   "execution_count": 70,
   "id": "2a49e86a",
   "metadata": {},
   "outputs": [],
   "source": [
    "################ An eccentric alumnus left scholarship money for students in the third decile from \n",
    "# the bottom of their class. Determine the range of the third decile. Would a student with a 2.8 grade point average \n",
    "# qualify for this scholarship? \n",
    "bot_of_30 = gpa.ppf(.30)\n",
    "top_of_30 = gpa.isf(.20)"
   ]
  },
  {
   "cell_type": "code",
   "execution_count": 228,
   "id": "01b925fa",
   "metadata": {},
   "outputs": [
    {
     "name": "stdout",
     "output_type": "stream",
     "text": [
      "2.8 - 3.25\n"
     ]
    }
   ],
   "source": [
    "print(f\"{round(top_of_30, 1)} - {round(bot_of_30, 2)}\")"
   ]
  },
  {
   "cell_type": "code",
   "execution_count": 72,
   "id": "529c789c",
   "metadata": {},
   "outputs": [
    {
     "data": {
      "text/plain": [
       "3.2524863700718742"
      ]
     },
     "execution_count": 72,
     "metadata": {},
     "output_type": "execute_result"
    }
   ],
   "source": [
    "bot_of_30"
   ]
  },
  {
   "cell_type": "code",
   "execution_count": 233,
   "id": "17d3f4c8",
   "metadata": {},
   "outputs": [
    {
     "data": {
      "text/plain": [
       "0.9522096477271853"
      ]
     },
     "execution_count": 233,
     "metadata": {},
     "output_type": "execute_result"
    }
   ],
   "source": [
    "# If I have a GPA of 3.5, what percentile am I in? 95th\n",
    "gpa.cdf(3.5)"
   ]
  },
  {
   "cell_type": "code",
   "execution_count": 231,
   "id": "effe5d1a",
   "metadata": {},
   "outputs": [],
   "source": [
    "# ########## 3. A marketing website has an average click-through rate of 2%. \n",
    "# One day they observe 4326 visitors and 97 click-throughs. How likely is it that this many people \n",
    "# or more click through? 0 "
   ]
  },
  {
   "cell_type": "code",
   "execution_count": 77,
   "id": "354ed187",
   "metadata": {},
   "outputs": [],
   "source": [
    "clicks = stats.poisson(2)"
   ]
  },
  {
   "cell_type": "code",
   "execution_count": 80,
   "id": "1087264f",
   "metadata": {},
   "outputs": [
    {
     "data": {
      "text/plain": [
       "0.0"
      ]
     },
     "execution_count": 80,
     "metadata": {},
     "output_type": "execute_result"
    }
   ],
   "source": [
    "clicks.sf(4326)"
   ]
  },
  {
   "cell_type": "code",
   "execution_count": 82,
   "id": "6c0cb00e",
   "metadata": {},
   "outputs": [],
   "source": [
    "##############4. You are working on some statistics homework consisting of 100 questions where all of the answers are a probability\n",
    "# rounded to the hundreths place. Looking to save time, you put down random probabilities as the answer to each question.\n",
    "# What is the probability that at least one of your first 60 answers is correct? 45 "
   ]
  },
  {
   "cell_type": "code",
   "execution_count": 88,
   "id": "8871c9a2",
   "metadata": {},
   "outputs": [],
   "source": [
    "n_trials = 100\n",
    "correct = .25"
   ]
  },
  {
   "cell_type": "code",
   "execution_count": 90,
   "id": "3e8fb5ae",
   "metadata": {},
   "outputs": [],
   "source": [
    "quest_dist = stats.binom(n_trials, correct)"
   ]
  },
  {
   "cell_type": "code",
   "execution_count": 91,
   "id": "e3f742e7",
   "metadata": {},
   "outputs": [
    {
     "data": {
      "text/plain": [
       "0.9999999999999714"
      ]
     },
     "execution_count": 91,
     "metadata": {},
     "output_type": "execute_result"
    }
   ],
   "source": [
    "quest_dist.cdf(60)"
   ]
  },
  {
   "cell_type": "code",
   "execution_count": null,
   "id": "0635dd0f",
   "metadata": {},
   "outputs": [],
   "source": [
    "############## 5. The codeup staff tends to get upset when the student break area is not cleaned up. \n",
    "# Suppose that there's a 3% chance that any one student cleans the break area when they visit it, and, \n",
    "# on any given day, about 90% of the 3 active cohorts of 22 students visit the break area. \n",
    "# How likely is it that the break area gets cleaned up each day? \n",
    "# How likely is it that it goes two days without getting cleaned up? All week?"
   ]
  },
  {
   "cell_type": "code",
   "execution_count": 101,
   "id": "382b13f7",
   "metadata": {},
   "outputs": [],
   "source": [
    "lamb = 3"
   ]
  },
  {
   "cell_type": "code",
   "execution_count": 235,
   "id": "bc18b643",
   "metadata": {},
   "outputs": [
    {
     "data": {
      "image/png": "[encoded data removed]",
      "text/plain": [
       "<Figure size 640x480 with 1 Axes>"
      ]
     },
     "metadata": {},
     "output_type": "display_data"
    }
   ],
   "source": [
    "clean = stats.poisson(lamb)\n",
    "x = np.arange(0,10)\n",
    "y = [clean.pmf(i) for i in x]\n",
    "plt.bar(x,y)\n",
    "plt.show()"
   ]
  },
  {
   "cell_type": "code",
   "execution_count": 106,
   "id": "2deff41c",
   "metadata": {},
   "outputs": [],
   "source": [
    "# 6. You want to get lunch at La Panaderia, but notice that the line is usually very long at lunchtime. \n",
    "# After several weeks of careful observation, you notice that the average number of people in line when your \n",
    "# lunch break starts is normally distributed with a mean of 15 and standard deviation of 3. \n",
    "# If it takes 2 minutes for each person to order, and 10 minutes from ordering to getting your food, \n",
    "# what is the likelihood that you have at least 15 minutes left to eat your food before you have to go back to class? \n",
    "# Assume you have one hour for lunch, and ignore travel time to and from La Panaderia. 70%"
   ]
  },
  {
   "cell_type": "code",
   "execution_count": 107,
   "id": "3d055afa",
   "metadata": {},
   "outputs": [],
   "source": [
    "avg_cust = 15 \n",
    "sd_cust = 3 "
   ]
  },
  {
   "cell_type": "code",
   "execution_count": 108,
   "id": "76e20269",
   "metadata": {},
   "outputs": [],
   "source": [
    "pan = stats.norm(avg_cust, sd_cust)"
   ]
  },
  {
   "cell_type": "code",
   "execution_count": 112,
   "id": "def57e93",
   "metadata": {},
   "outputs": [
    {
     "data": {
      "image/png": "[encoded data removed]",
      "text/plain": [
       "<Figure size 640x480 with 1 Axes>"
      ]
     },
     "metadata": {},
     "output_type": "display_data"
    }
   ],
   "source": [
    "pd.Series(pan.rvs(100_000)).plot.hist()\n",
    "plt.show()"
   ]
  },
  {
   "cell_type": "code",
   "execution_count": 239,
   "id": "9d925990",
   "metadata": {},
   "outputs": [
    {
     "data": {
      "text/plain": [
       "45.0"
      ]
     },
     "execution_count": 239,
     "metadata": {},
     "output_type": "execute_result"
    }
   ],
   "source": [
    "(16.5 * 2) + 12"
   ]
  },
  {
   "cell_type": "code",
   "execution_count": 242,
   "id": "b8bc61c0",
   "metadata": {},
   "outputs": [
    {
     "data": {
      "text/plain": [
       "0.6914624612740131"
      ]
     },
     "execution_count": 242,
     "metadata": {},
     "output_type": "execute_result"
    }
   ],
   "source": [
    "pan.cdf(16.5)"
   ]
  },
  {
   "cell_type": "code",
   "execution_count": null,
   "id": "9175afa7",
   "metadata": {},
   "outputs": [],
   "source": [
    "# 7. Connect to the employees database and find the average salary of current employees, \n",
    "# along with the standard deviation. For the following questions, calculate the answer based on \n",
    "# modeling the employees salaries with a normal distribution defined by the calculated mean and standard deviation \n",
    "# then compare this answer to the actual values present in the salaries dataset.\n",
    "\n",
    "# What percent of employees earn less than 60,000? 0.24\n",
    "# What percent of employees earn more than 95,000? 0.09\n",
    "# What percent of employees earn between 65,000 and 80,000? 0.02\n",
    "# What do the top 5% of employees make? 100484.64"
   ]
  },
  {
   "cell_type": "code",
   "execution_count": 164,
   "id": "29ac2935",
   "metadata": {},
   "outputs": [],
   "source": [
    "employee_sal = pd.read_sql(\"select e.emp_no, s.salary from employees as e join salaries as s on s.emp_no = e.emp_no where s.to_date > curdate()\",env.get_db_url(\"employees\"))"
   ]
  },
  {
   "cell_type": "code",
   "execution_count": 200,
   "id": "1d64608d",
   "metadata": {},
   "outputs": [],
   "source": [
    "sd_sal = employee_sal.std()\n",
    "sd_sal = sd_sal[1]\n",
    "avg_sal = employee_sal.mean()\n",
    "avg_sal = avg_sal[1]"
   ]
  },
  {
   "cell_type": "code",
   "execution_count": 243,
   "id": "f2b8be25",
   "metadata": {},
   "outputs": [
    {
     "data": {
      "text/plain": [
       "72012.23585730705"
      ]
     },
     "execution_count": 243,
     "metadata": {},
     "output_type": "execute_result"
    }
   ],
   "source": [
    "avg_sal"
   ]
  },
  {
   "cell_type": "code",
   "execution_count": 201,
   "id": "f61a1ade",
   "metadata": {},
   "outputs": [],
   "source": [
    "emp_sal = stats.norm(avg_sal,sd_sal)"
   ]
  },
  {
   "cell_type": "code",
   "execution_count": 203,
   "id": "0dc0e107",
   "metadata": {},
   "outputs": [
    {
     "data": {
      "text/plain": [
       "0.24385742480214434"
      ]
     },
     "execution_count": 203,
     "metadata": {},
     "output_type": "execute_result"
    }
   ],
   "source": [
    "emp_sal.cdf(60_000)"
   ]
  },
  {
   "cell_type": "code",
   "execution_count": 204,
   "id": "29a4bf57",
   "metadata": {},
   "outputs": [
    {
     "data": {
      "text/plain": [
       "0.09208819199804058"
      ]
     },
     "execution_count": 204,
     "metadata": {},
     "output_type": "execute_result"
    }
   ],
   "source": [
    "emp_sal.sf(95_000)"
   ]
  },
  {
   "cell_type": "code",
   "execution_count": 244,
   "id": "55372a2a",
   "metadata": {},
   "outputs": [
    {
     "data": {
      "text/plain": [
       "0.33506056854466654"
      ]
     },
     "execution_count": 244,
     "metadata": {},
     "output_type": "execute_result"
    }
   ],
   "source": [
    "emp_sal.cdf(80_000) - emp_sal.cdf(65_000)"
   ]
  },
  {
   "cell_type": "code",
   "execution_count": 215,
   "id": "07e0f7fb",
   "metadata": {},
   "outputs": [
    {
     "data": {
      "text/plain": [
       "100484.64"
      ]
     },
     "execution_count": 215,
     "metadata": {},
     "output_type": "execute_result"
    }
   ],
   "source": [
    "round(emp_sal.isf(.05), 2)"
   ]
  },
  {
   "cell_type": "code",
   "execution_count": null,
   "id": "51c29d40",
   "metadata": {},
   "outputs": [],
   "source": []
  }
 ],
 "metadata": {
  "kernelspec": {
   "display_name": "Python 3 (ipykernel)",
   "language": "python",
   "name": "python3"
  },
  "language_info": {
   "codemirror_mode": {
    "name": "ipython",
    "version": 3
   },
   "file_extension": ".py",
   "mimetype": "text/x-python",
   "name": "python",
   "nbconvert_exporter": "python",
   "pygments_lexer": "ipython3",
   "version": "3.9.13"
  }
 },
 "nbformat": 4,
 "nbformat_minor": 5
}
