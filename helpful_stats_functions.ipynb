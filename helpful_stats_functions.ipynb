{
 "cells": [
  {
   "cell_type": "markdown",
   "id": "bef20b2a",
   "metadata": {},
   "source": [
    "# Holy Grail"
   ]
  },
  {
   "cell_type": "code",
   "execution_count": 3,
   "id": "de38006c",
   "metadata": {},
   "outputs": [],
   "source": [
    "import matplotlib.pyplot as plt\n",
    "import numpy as np\n",
    "import pandas as pd\n",
    "from scipy import stats\n",
    "import seaborn as sns\n",
    "import pydataset as data\n",
    "import env"
   ]
  },
  {
   "cell_type": "code",
   "execution_count": 4,
   "id": "bbd6f416",
   "metadata": {},
   "outputs": [],
   "source": [
    "def hypothesis_result(p, alpha = 0.05):\n",
    "    if p < alpha:\n",
    "        print('We reject the null hypothesis')\n",
    "    else:\n",
    "        print(\"we fail to reject the null hypothesis\")"
   ]
  },
  {
   "cell_type": "markdown",
   "id": "553de172",
   "metadata": {},
   "source": [
    "### Use Case"
   ]
  },
  {
   "cell_type": "code",
   "execution_count": 9,
   "id": "b7676404",
   "metadata": {},
   "outputs": [],
   "source": [
    "# chi2, p, degf, expected = chi2_test(table)"
   ]
  },
  {
   "cell_type": "markdown",
   "id": "39eead44",
   "metadata": {},
   "source": [
    "Null Hypothesis:"
   ]
  },
  {
   "cell_type": "markdown",
   "id": "0621c8d5",
   "metadata": {},
   "source": [
    "$H_o$ "
   ]
  },
  {
   "cell_type": "markdown",
   "id": "e5e87592",
   "metadata": {},
   "source": [
    "Hypothesis:"
   ]
  },
  {
   "cell_type": "markdown",
   "id": "5562b841",
   "metadata": {},
   "source": [
    "$H_a$"
   ]
  },
  {
   "cell_type": "markdown",
   "id": "6d5e021e",
   "metadata": {},
   "source": [
    "# Import from MySQL"
   ]
  },
  {
   "cell_type": "code",
   "execution_count": 11,
   "id": "975563c5",
   "metadata": {},
   "outputs": [],
   "source": [
    "# df = pd.read_sql(query, env.get_db_url())"
   ]
  },
  {
   "cell_type": "markdown",
   "id": "16582c2e",
   "metadata": {},
   "source": [
    "# Import Dataset from Seaborn"
   ]
  },
  {
   "cell_type": "code",
   "execution_count": null,
   "id": "8ae2be89",
   "metadata": {},
   "outputs": [],
   "source": [
    "# df = sns.load_dataset('name_of_dataset')"
   ]
  },
  {
   "cell_type": "markdown",
   "id": "c070f426",
   "metadata": {},
   "source": [
    "# Test Equal Variances "
   ]
  },
  {
   "cell_type": "code",
   "execution_count": null,
   "id": "fc178453",
   "metadata": {},
   "outputs": [],
   "source": [
    "# stats.levene(df.col_1, df.col_2)"
   ]
  },
  {
   "cell_type": "markdown",
   "id": "9e963b76",
   "metadata": {},
   "source": [
    "# One Sample T-Test"
   ]
  },
  {
   "cell_type": "code",
   "execution_count": 19,
   "id": "bf9a1ab1",
   "metadata": {},
   "outputs": [],
   "source": [
    "# t, p = stats.ttest_1samp(sample, overall_mean)"
   ]
  },
  {
   "cell_type": "markdown",
   "id": "2c1e97fd",
   "metadata": {},
   "source": [
    "# Independent T-Test (a.k.a Two Sample T-Test)"
   ]
  },
  {
   "cell_type": "markdown",
   "id": "b8498081",
   "metadata": {},
   "source": [
    "***************  equal_var=False -- If variances are not equal **********************"
   ]
  },
  {
   "cell_type": "code",
   "execution_count": null,
   "id": "88f29afe",
   "metadata": {},
   "outputs": [],
   "source": [
    "# t, p = stats.ttest_ind(sample_1, sample_2, equal_var=False)"
   ]
  },
  {
   "cell_type": "markdown",
   "id": "2e2c912b",
   "metadata": {},
   "source": [
    "# ANOVA Analysis of Variance"
   ]
  },
  {
   "cell_type": "code",
   "execution_count": 20,
   "id": "8d2e2f54",
   "metadata": {},
   "outputs": [],
   "source": [
    "# f, p = stats.f_oneway(sample_1, sample_2, sample_3)"
   ]
  },
  {
   "cell_type": "markdown",
   "id": "a2b2a3c6",
   "metadata": {},
   "source": [
    "# Kruskal-Wallis Test"
   ]
  },
  {
   "cell_type": "code",
   "execution_count": null,
   "id": "f01360d7",
   "metadata": {},
   "outputs": [],
   "source": [
    "#  stats.kruskal(sample_1, sample_2, sample_3)"
   ]
  },
  {
   "cell_type": "markdown",
   "id": "4981c34c",
   "metadata": {},
   "source": [
    "# Pearson Test"
   ]
  },
  {
   "cell_type": "code",
   "execution_count": null,
   "id": "e2d2be21",
   "metadata": {},
   "outputs": [],
   "source": [
    "def eval_Presult(r, p, α=0.05):\n",
    "    if p < α:\n",
    "        return print(f\"\"\"We reject H₀, there is a linear relationship with a Correlation Coefficient of {r:2f}.\n",
    "P-value: {p}\"\"\")\n",
    "    else:\n",
    "        return print(f\"\"\"We fail to reject H₀: that there is a linear relationship.\n",
    "Pearson’s r: {r:2f}\n",
    "P-value: {p}\"\"\")"
   ]
  },
  {
   "cell_type": "markdown",
   "id": "dc838314",
   "metadata": {},
   "source": [
    "# Spearman Test (Non-Parametric)"
   ]
  },
  {
   "cell_type": "code",
   "execution_count": 13,
   "id": "aa7dbe7c",
   "metadata": {},
   "outputs": [],
   "source": [
    "def eval_Sresult(r, p, α=0.05):\n",
    "    if p < α:\n",
    "        return print(f\"\"\"We reject H₀, there is a monotonic relationship.\n",
    "Spearman’s r: {r:2f}\n",
    "P-value: {p}\"\"\")\n",
    "    else:\n",
    "        return print(f\"\"\"We fail to reject H₀: that there is a monotonic relationship.\n",
    "Spearman’s r: {r:2f}\n",
    "P-value: {p}\"\"\")"
   ]
  },
  {
   "cell_type": "markdown",
   "id": "487d07be",
   "metadata": {},
   "source": [
    "# Chi Test "
   ]
  },
  {
   "cell_type": "code",
   "execution_count": 5,
   "id": "b02f959e",
   "metadata": {},
   "outputs": [],
   "source": [
    "def chi2_test(table, variables=False):\n",
    "    chi2, p, degf, expected = stats.chi2_contingency(table)\n",
    "    print('Observed')\n",
    "    print(table.values)\n",
    "    print('\\nExpected')\n",
    "    print(table.astype(int))\n",
    "    print('\\n----')\n",
    "    print(f'chi^2 = {chi2:.4f}')\n",
    "    print(f'p     = {p}')\n",
    "    if variables:\n",
    "        return  chi2, p, degf, expected\n",
    "    else:\n",
    "        return"
   ]
  },
  {
   "cell_type": "markdown",
   "id": "e28c83eb",
   "metadata": {},
   "source": [
    "# Shapiro Test (Confirm Normalcy)"
   ]
  },
  {
   "cell_type": "code",
   "execution_count": 15,
   "id": "87192972",
   "metadata": {},
   "outputs": [],
   "source": [
    "# r,p = stats.shapiro(df.col_name)"
   ]
  }
 ],
 "metadata": {
  "kernelspec": {
   "display_name": "Python 3 (ipykernel)",
   "language": "python",
   "name": "python3"
  },
  "language_info": {
   "codemirror_mode": {
    "name": "ipython",
    "version": 3
   },
   "file_extension": ".py",
   "mimetype": "text/x-python",
   "name": "python",
   "nbconvert_exporter": "python",
   "pygments_lexer": "ipython3",
   "version": "3.9.13"
  }
 },
 "nbformat": 4,
 "nbformat_minor": 5
}
