{
 "cells": [
  {
   "cell_type": "code",
   "execution_count": 1,
   "id": "71a9e202",
   "metadata": {},
   "outputs": [],
   "source": [
    "import matplotlib.pyplot as plt\n",
    "import numpy as np\n",
    "import pandas as pd\n",
    "from scipy import stats\n",
    "import seaborn as sns\n",
    "import pydataset as data\n",
    "import env"
   ]
  },
  {
   "cell_type": "code",
   "execution_count": 3,
   "id": "d5a5fc78",
   "metadata": {},
   "outputs": [],
   "source": [
    "customers = 618\n",
    "probability = .10"
   ]
  },
  {
   "cell_type": "code",
   "execution_count": 42,
   "id": "f90e6454",
   "metadata": {},
   "outputs": [
    {
     "data": {
      "text/plain": [
       "0.1510752871020976"
      ]
     },
     "execution_count": 42,
     "metadata": {},
     "output_type": "execute_result"
    }
   ],
   "source": [
    "1 - stats.binom(618, .10).cdf(70)"
   ]
  },
  {
   "cell_type": "code",
   "execution_count": 43,
   "id": "6cdf1ddc",
   "metadata": {},
   "outputs": [
    {
     "data": {
      "text/plain": [
       "0.1510752871020976"
      ]
     },
     "execution_count": 43,
     "metadata": {},
     "output_type": "execute_result"
    }
   ],
   "source": [
    "stats.binom(618, .10).sf(69)"
   ]
  },
  {
   "cell_type": "markdown",
   "id": "e61c6f5a",
   "metadata": {},
   "source": [
    "Codeup wants to know if there is a difference in the proportion of data science students who hold bachelors degrees to the proportion of web dev students who hold bachelors degrees.  What is the the null hypothesis?"
   ]
  },
  {
   "cell_type": "markdown",
   "id": "39554d7e",
   "metadata": {},
   "source": [
    "* The proportion of data science students who hold bachelors degrees are equal to the proportion of web dev students who hold bachelors degrees\n",
    "* The proportion of data science students who hold bachelors degrees are not equal to the proportion of web dev students who hold bachelors degrees"
   ]
  },
  {
   "cell_type": "markdown",
   "id": "b8735142",
   "metadata": {},
   "source": [
    "* The proportion of data science students who hold bachelors degrees is independent of the proportion of web dev students who hold bachelors degrees\n",
    "* The proportion of data science students who hold bachelors degrees are not equal to the proportion of web dev students who hold bachelors degrees"
   ]
  },
  {
   "cell_type": "markdown",
   "id": "59bf6e67",
   "metadata": {},
   "source": [
    "Assume that the time it takes to order and eat the burger special at the Esquire is normally distributed with a mean of 40 minutes and a standard deviation of 15 minutes. If it takes 5 minutes to walk from Codeup to the restaurant, what is the likelihood that you can go eat at The Esquire during your lunch hour and not be late back to class?"
   ]
  },
  {
   "cell_type": "code",
   "execution_count": 11,
   "id": "978fbadc",
   "metadata": {},
   "outputs": [],
   "source": [
    "mean = 40 \n",
    "std = 15\n",
    "walk = 5 * 2 # back and forth \n",
    "lunch = 60 "
   ]
  },
  {
   "cell_type": "code",
   "execution_count": 12,
   "id": "64ee106c",
   "metadata": {},
   "outputs": [],
   "source": [
    "eat_time = stats.norm(mean, std)"
   ]
  },
  {
   "cell_type": "code",
   "execution_count": 24,
   "id": "f187929a",
   "metadata": {},
   "outputs": [
    {
     "data": {
      "text/plain": [
       "54.916868248146294"
      ]
     },
     "execution_count": 24,
     "metadata": {},
     "output_type": "execute_result"
    }
   ],
   "source": [
    "eat_time.ppf(.84)"
   ]
  },
  {
   "cell_type": "code",
   "execution_count": null,
   "id": "b611cf73",
   "metadata": {},
   "outputs": [],
   "source": []
  }
 ],
 "metadata": {
  "kernelspec": {
   "display_name": "Python 3 (ipykernel)",
   "language": "python",
   "name": "python3"
  },
  "language_info": {
   "codemirror_mode": {
    "name": "ipython",
    "version": 3
   },
   "file_extension": ".py",
   "mimetype": "text/x-python",
   "name": "python",
   "nbconvert_exporter": "python",
   "pygments_lexer": "ipython3",
   "version": "3.9.13"
  }
 },
 "nbformat": 4,
 "nbformat_minor": 5
}
