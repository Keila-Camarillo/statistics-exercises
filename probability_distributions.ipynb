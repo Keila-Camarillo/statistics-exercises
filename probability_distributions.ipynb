{
 "cells": [
  {
   "cell_type": "code",
   "execution_count": 1,
   "id": "c9f6b6b7",
   "metadata": {},
   "outputs": [],
   "source": [
    "#standard imports\n",
    "import pandas as pd\n",
    "import numpy as np\n",
    "from scipy import stats\n",
    "import env\n",
    "\n",
    "import matplotlib.pyplot as plt"
   ]
  },
  {
   "cell_type": "code",
   "execution_count": null,
   "id": "7c8c1885",
   "metadata": {},
   "outputs": [],
   "source": [
    "# The average battery life for a fully charges iphone-12 is 14 hours with standard deviation of 1.5 hour\n",
    "\n",
    "# What kind of probability distribution represents the random variable \"battery life in hours\"? continous normal distribution\n",
    "# What are the appropriate defining parameters for this distribution? 14 and 1.5 \n",
    "# Create a Scipy object/instance for this distribution\n",
    "# Use the object create above and choose appropriate method (e.g. pmf, cdf, ppf etc.) to calculate the following:\n",
    "#  a. What is the probability the cell phone battery more than 16 hours.  \n",
    "#  b. What is probability that cell phone battery lasts for exactly 12 hours.  \n",
    "#  c. What is the probability that cell phone battery lasts for 12 hours or less.  \n",
    "#  d. How many hours do the battery lasts for top 25% longest lasting phones.   "
   ]
  },
  {
   "cell_type": "code",
   "execution_count": null,
   "id": "302be0f9",
   "metadata": {},
   "outputs": [],
   "source": [
    "mean = 14\n",
    "sd = 1.5"
   ]
  },
  {
   "cell_type": "code",
   "execution_count": null,
   "id": "b7a460c7",
   "metadata": {},
   "outputs": [],
   "source": [
    "cell_dist = stats.norm(mean, sd)"
   ]
  },
  {
   "cell_type": "code",
   "execution_count": null,
   "id": "6f1b0d39",
   "metadata": {},
   "outputs": [],
   "source": [
    "cell_dist.sf(16)"
   ]
  },
  {
   "cell_type": "code",
   "execution_count": null,
   "id": "5c0cf291",
   "metadata": {},
   "outputs": [],
   "source": [
    "cell_dist.pdf(12)"
   ]
  },
  {
   "cell_type": "code",
   "execution_count": null,
   "id": "418d9663",
   "metadata": {},
   "outputs": [],
   "source": [
    "cell_dist.cdf(12)"
   ]
  },
  {
   "cell_type": "code",
   "execution_count": null,
   "id": "a6d47275",
   "metadata": {},
   "outputs": [],
   "source": [
    "cell_dist.isf(1/4)"
   ]
  },
  {
   "cell_type": "code",
   "execution_count": null,
   "id": "760eb168",
   "metadata": {},
   "outputs": [],
   "source": [
    "# # A bank found that the average number of cars waiting during the noon hour at a drive-up window \n",
    "# follows a Poisson distribution with a mean of 2 cars. Make a chart of this distribution and answer \n",
    "# these questions concerning the probability of cars waiting at the drive-up window."
   ]
  },
  {
   "cell_type": "code",
   "execution_count": 2,
   "id": "98a20d56",
   "metadata": {},
   "outputs": [],
   "source": [
    "# # What is the probability that no cars drive up in the noon hour?"
   ]
  },
  {
   "cell_type": "code",
   "execution_count": 3,
   "id": "3efab083",
   "metadata": {},
   "outputs": [
    {
     "ename": "SyntaxError",
     "evalue": "cannot assign to operator (3368825338.py, line 1)",
     "output_type": "error",
     "traceback": [
      "\u001b[0;36m  File \u001b[0;32m\"/var/folders/bf/lhpb5n_j1xj4msxy6nrm9h7h0000gn/T/ipykernel_23615/3368825338.py\"\u001b[0;36m, line \u001b[0;32m1\u001b[0m\n\u001b[0;31m    - μ = \\mu + `tab`\u001b[0m\n\u001b[0m    ^\u001b[0m\n\u001b[0;31mSyntaxError\u001b[0m\u001b[0;31m:\u001b[0m cannot assign to operator\n"
     ]
    }
   ],
   "source": [
    "#  μ = \\mu + `tab`"
   ]
  },
  {
   "cell_type": "code",
   "execution_count": 14,
   "id": "2128898a",
   "metadata": {},
   "outputs": [
    {
     "data": {
      "image/png": "[encoded data removed]",
      "text/plain": [
       "<Figure size 640x480 with 1 Axes>"
      ]
     },
     "metadata": {},
     "output_type": "display_data"
    }
   ],
   "source": [
    "mean = 2\n",
    "x = np.arange(0,10)\n",
    "y = stats.poisson(mean).pmf(x)\n",
    "plt.xlabel(\"Nimber of cars during noon hour\")\n",
    "\n",
    "plt.bar(x,y)\n",
    "plt.show()"
   ]
  },
  {
   "cell_type": "code",
   "execution_count": 16,
   "id": "b216b252",
   "metadata": {},
   "outputs": [
    {
     "data": {
      "text/plain": [
       "0.1353352832366127"
      ]
     },
     "execution_count": 16,
     "metadata": {},
     "output_type": "execute_result"
    }
   ],
   "source": [
    "stats.poisson.pmf(0, mean)"
   ]
  },
  {
   "cell_type": "code",
   "execution_count": 17,
   "id": "e28b41c7",
   "metadata": {},
   "outputs": [],
   "source": [
    " # # What is the probability that 3 or more cars come through the drive through? 0.32"
   ]
  },
  {
   "cell_type": "code",
   "execution_count": 18,
   "id": "5d0a63c5",
   "metadata": {},
   "outputs": [
    {
     "data": {
      "text/plain": [
       "0.32332358381693654"
      ]
     },
     "execution_count": 18,
     "metadata": {},
     "output_type": "execute_result"
    }
   ],
   "source": [
    "stats.poisson.sf(2, mean)"
   ]
  },
  {
   "cell_type": "code",
   "execution_count": 19,
   "id": "c3329852",
   "metadata": {},
   "outputs": [],
   "source": [
    "# # How likely is it that the drive through gets at least 1 car? 0.86"
   ]
  },
  {
   "cell_type": "code",
   "execution_count": 21,
   "id": "5516399b",
   "metadata": {},
   "outputs": [
    {
     "data": {
      "text/plain": [
       "0.8646647167633873"
      ]
     },
     "execution_count": 21,
     "metadata": {},
     "output_type": "execute_result"
    }
   ],
   "source": [
    "stats.poisson.sf(0, mean)"
   ]
  },
  {
   "cell_type": "code",
   "execution_count": 22,
   "id": "009e105e",
   "metadata": {},
   "outputs": [],
   "source": [
    "############ Grades of State University graduates are normally distributed with a mean of 3.0 \n",
    "# and a standard deviation of .3. Calculate the following: 3.49"
   ]
  },
  {
   "cell_type": "code",
   "execution_count": 44,
   "id": "8d40b3cb",
   "metadata": {},
   "outputs": [
    {
     "data": {
      "text/plain": [
       "[<matplotlib.lines.Line2D at 0x7f9461e03cd0>]"
      ]
     },
     "execution_count": 44,
     "metadata": {},
     "output_type": "execute_result"
    },
    {
     "data": {
      "image/png": "[encoded data removed]",
      "text/plain": [
       "<Figure size 640x480 with 1 Axes>"
      ]
     },
     "metadata": {},
     "output_type": "display_data"
    }
   ],
   "source": [
    "u_mean = 3\n",
    "u_sd = .3\n",
    "grade = stats.norm(u_mean, u_sd)\n",
    "\n",
    "x = np.linspace(u_mean - 4*u_sd + 4*u_sd, 100)\n",
    "y = grade.pdf(x)\n",
    "\n",
    "plt.plot(x,y)"
   ]
  },
  {
   "cell_type": "code",
   "execution_count": 45,
   "id": "60cdda4b",
   "metadata": {},
   "outputs": [
    {
     "data": {
      "text/plain": [
       "3.4934560880854417"
      ]
     },
     "execution_count": 45,
     "metadata": {},
     "output_type": "execute_result"
    }
   ],
   "source": [
    "grade.isf(0.05)"
   ]
  },
  {
   "cell_type": "code",
   "execution_count": 46,
   "id": "fa5cf023",
   "metadata": {},
   "outputs": [],
   "source": [
    "# What GPA constitutes the bottom 15% of the class? 2.69"
   ]
  },
  {
   "cell_type": "code",
   "execution_count": 47,
   "id": "d0c86240",
   "metadata": {},
   "outputs": [
    {
     "data": {
      "text/plain": [
       "2.689069983151863"
      ]
     },
     "execution_count": 47,
     "metadata": {},
     "output_type": "execute_result"
    }
   ],
   "source": [
    "grade.ppf(.15)"
   ]
  },
  {
   "cell_type": "code",
   "execution_count": 48,
   "id": "0e32854d",
   "metadata": {},
   "outputs": [],
   "source": [
    "# An eccentric alumnus left scholarship money for students in the third decile from \n",
    "# the bottom of their class. Determine the range of the third decile. Would a student with a 2.8 grade point average \n",
    "# qualify for this scholarship?"
   ]
  },
  {
   "cell_type": "code",
   "execution_count": 49,
   "id": "c021dcb6",
   "metadata": {},
   "outputs": [],
   "source": [
    "Z_20 = stats.norm.ppf(.2)\n",
    "Z_30 = stats.norm.ppf(.3)"
   ]
  },
  {
   "cell_type": "code",
   "execution_count": 51,
   "id": "6cd4e2ae",
   "metadata": {},
   "outputs": [],
   "source": [
    "x_20 = u_mean * Z_20 * u_sd \n",
    "x_30 = u_mean * Z_30 * u_sd \n",
    "gpa_range = (x_20, x_30)\n"
   ]
  },
  {
   "cell_type": "raw",
   "id": "8bee3b65",
   "metadata": {},
   "source": [
    "print(gpa_range)"
   ]
  },
  {
   "cell_type": "code",
   "execution_count": 53,
   "id": "0bdc12b1",
   "metadata": {},
   "outputs": [],
   "source": [
    "range_of_gpas = grade.ppf([.2, .3])"
   ]
  },
  {
   "cell_type": "code",
   "execution_count": 54,
   "id": "7c6f6300",
   "metadata": {},
   "outputs": [
    {
     "data": {
      "text/plain": [
       "True"
      ]
     },
     "execution_count": 54,
     "metadata": {},
     "output_type": "execute_result"
    }
   ],
   "source": [
    "(range_of_gpas[0] < 2.8) and (range_of_gpas[1] > 2.8)"
   ]
  },
  {
   "cell_type": "code",
   "execution_count": 55,
   "id": "7b87ffed",
   "metadata": {},
   "outputs": [],
   "source": [
    "# If I have a GPA of 3.5, what percentile am I in? 95th "
   ]
  },
  {
   "cell_type": "code",
   "execution_count": 56,
   "id": "9af88af3",
   "metadata": {},
   "outputs": [
    {
     "data": {
      "text/plain": [
       "0.9522096477271853"
      ]
     },
     "execution_count": 56,
     "metadata": {},
     "output_type": "execute_result"
    }
   ],
   "source": [
    "grade.cdf(3.5)"
   ]
  },
  {
   "cell_type": "code",
   "execution_count": 57,
   "id": "24901abe",
   "metadata": {},
   "outputs": [],
   "source": [
    "# A marketing website has an average click-through rate of 2%. \n",
    "# One day they observe 4326 visitors and 97 click-throughs. How likely is it that this many people \n",
    "# or more click through?"
   ]
  },
  {
   "cell_type": "markdown",
   "id": "83188a7a",
   "metadata": {},
   "source": [
    "- probablity: succes rate pf 2%\n",
    "- n_trials : 4326 visitors"
   ]
  },
  {
   "cell_type": "code",
   "execution_count": 58,
   "id": "0335becb",
   "metadata": {},
   "outputs": [
    {
     "data": {
      "text/plain": [
       "0.13975823631416445"
      ]
     },
     "execution_count": 58,
     "metadata": {},
     "output_type": "execute_result"
    }
   ],
   "source": [
    "n_trails = 4326\n",
    "p = 0.02\n",
    "\n",
    "click_throughs = stats.binom(n_trails, p)\n",
    "\n",
    "# discrete value include 96\n",
    "click_throughs.sf(96)"
   ]
  },
  {
   "cell_type": "code",
   "execution_count": null,
   "id": "e4bbfa82",
   "metadata": {},
   "outputs": [],
   "source": [
    "# Scott's way"
   ]
  },
  {
   "cell_type": "code",
   "execution_count": 59,
   "id": "f5e71482",
   "metadata": {},
   "outputs": [
    {
     "data": {
      "text/plain": [
       "0.1397582363141645"
      ]
     },
     "execution_count": 59,
     "metadata": {},
     "output_type": "execute_result"
    }
   ],
   "source": [
    "1 - click_throughs.cdf(96)"
   ]
  },
  {
   "cell_type": "code",
   "execution_count": 60,
   "id": "c2c42e51",
   "metadata": {},
   "outputs": [],
   "source": [
    "#sim"
   ]
  },
  {
   "cell_type": "code",
   "execution_count": 66,
   "id": "614b7b3b",
   "metadata": {},
   "outputs": [],
   "source": [
    "click = np.random.choice([0,1],(100_000, 4326), p= [.98, .02])"
   ]
  },
  {
   "cell_type": "code",
   "execution_count": 67,
   "id": "070237fb",
   "metadata": {},
   "outputs": [
    {
     "data": {
      "text/plain": [
       "array([[0, 0, 0, ..., 0, 0, 0],\n",
       "       [0, 0, 0, ..., 0, 0, 0],\n",
       "       [0, 0, 0, ..., 0, 0, 0],\n",
       "       ...,\n",
       "       [0, 1, 0, ..., 1, 0, 0],\n",
       "       [0, 0, 0, ..., 0, 1, 0],\n",
       "       [0, 0, 0, ..., 0, 0, 0]])"
      ]
     },
     "execution_count": 67,
     "metadata": {},
     "output_type": "execute_result"
    }
   ],
   "source": [
    "click"
   ]
  },
  {
   "cell_type": "code",
   "execution_count": 68,
   "id": "35034a62",
   "metadata": {},
   "outputs": [
    {
     "data": {
      "text/plain": [
       "0.13971"
      ]
     },
     "execution_count": 68,
     "metadata": {},
     "output_type": "execute_result"
    }
   ],
   "source": [
    "(click.sum(axis=1)>96).mean()"
   ]
  },
  {
   "cell_type": "code",
   "execution_count": 69,
   "id": "734c5265",
   "metadata": {},
   "outputs": [],
   "source": [
    "#4. You are working on some statistics homework consisting of 100 questions where all of the answers are a probability\n",
    "# rounded to the hundreths place. Looking to save time, you put down random probabilities as the answer to \n",
    "# each question.\n",
    "# What is the probability that at least one of your first 60 answers is correct? "
   ]
  },
  {
   "cell_type": "code",
   "execution_count": 73,
   "id": "4d65b5c2",
   "metadata": {},
   "outputs": [],
   "source": [
    "trails = 60 # first 60 questions\n",
    "p1 = 0.01 # 1/100 b'c it's random Number between 0 & 1\n",
    "\n",
    "stats_hmwk = stats.binom(trails,p1)\n",
    "\n"
   ]
  },
  {
   "cell_type": "code",
   "execution_count": 74,
   "id": "f9b39f78",
   "metadata": {},
   "outputs": [
    {
     "data": {
      "text/plain": [
       "0.45284335760923855"
      ]
     },
     "execution_count": 74,
     "metadata": {},
     "output_type": "execute_result"
    }
   ],
   "source": [
    "stats_hmwk.sf(0)"
   ]
  },
  {
   "cell_type": "code",
   "execution_count": 75,
   "id": "aae24ffe",
   "metadata": {},
   "outputs": [],
   "source": [
    "# 5. The codeup staff tends to get upset when the student break area is not cleaned up. \n",
    "# Suppose that there's a 3% chance that any one student cleans the break area when they visit it, and, \n",
    "# on any given day, about 90% of the 3 active cohorts of 22 students visit the break area. \n",
    "# How likely is it that the break area gets cleaned up each day?  0.83\n",
    "# 2 days 2.7\n",
    "# How likely is it that it goes two days without getting cleaned up? All week? 0.013"
   ]
  },
  {
   "cell_type": "code",
   "execution_count": 76,
   "id": "a323793b",
   "metadata": {},
   "outputs": [],
   "source": [
    "n_students = round(.9 * 66)\n",
    "p = 0.03"
   ]
  },
  {
   "cell_type": "code",
   "execution_count": 79,
   "id": "e90438a9",
   "metadata": {},
   "outputs": [],
   "source": [
    "clean = stats.binom(n_students, p)"
   ]
  },
  {
   "cell_type": "code",
   "execution_count": 80,
   "id": "d3f53c20",
   "metadata": {},
   "outputs": [
    {
     "data": {
      "text/plain": [
       "0.8342199288437352"
      ]
     },
     "execution_count": 80,
     "metadata": {},
     "output_type": "execute_result"
    }
   ],
   "source": [
    "clean.sf(0)"
   ]
  },
  {
   "cell_type": "code",
   "execution_count": 83,
   "id": "6a337425",
   "metadata": {},
   "outputs": [],
   "source": [
    "n = n_students * 2\n",
    "p = 0.03\n",
    "not_clean_2 = stats.binom(n, p) "
   ]
  },
  {
   "cell_type": "code",
   "execution_count": 84,
   "id": "39461d32",
   "metadata": {},
   "outputs": [
    {
     "data": {
      "text/plain": [
       "0.027483031992576134"
      ]
     },
     "execution_count": 84,
     "metadata": {},
     "output_type": "execute_result"
    }
   ],
   "source": [
    "not_clean_2.pmf(0)"
   ]
  },
  {
   "cell_type": "code",
   "execution_count": 87,
   "id": "7070de2b",
   "metadata": {},
   "outputs": [],
   "source": [
    "n = n_students * 5\n",
    "p = 0.03\n",
    "not_clean_5 = stats.binom(n, p) "
   ]
  },
  {
   "cell_type": "code",
   "execution_count": 90,
   "id": "9635eb9f",
   "metadata": {},
   "outputs": [
    {
     "data": {
      "text/plain": [
       "0.013"
      ]
     },
     "execution_count": 90,
     "metadata": {},
     "output_type": "execute_result"
    }
   ],
   "source": [
    "round(not_clean_5.pmf(0), 5) * 100"
   ]
  },
  {
   "cell_type": "code",
   "execution_count": 91,
   "id": "a79f4679",
   "metadata": {},
   "outputs": [],
   "source": [
    "# 6. You want to get lunch at La Panaderia, but notice that the line is usually very long at lunchtime. \n",
    "# After several weeks of careful observation, you notice that the average number of people in line when your \n",
    "# lunch break starts is normally distributed with a mean of 15 and standard deviation of 3. \n",
    "# If it takes 2 minutes for each person to order, and 10 minutes from ordering to getting your food, \n",
    "# what is the likelihood that you have at least 15 minutes left to eat your food before you have to go back to class? \n",
    "# Assume you have one hour for lunch, and ignore travel time to and from La Panaderia. 69.1%"
   ]
  },
  {
   "cell_type": "code",
   "execution_count": 92,
   "id": "da50402f",
   "metadata": {},
   "outputs": [
    {
     "data": {
      "text/plain": [
       "33"
      ]
     },
     "execution_count": 92,
     "metadata": {},
     "output_type": "execute_result"
    }
   ],
   "source": [
    "avg_cust = 15 * 2\n",
    "sd_cust = 3 * 2\n",
    "total_lunchtime = 60\n",
    "eat_time = 15\n",
    "order_time = 2\n",
    "cook_time = 10\n",
    "max_wait = (total_lunchtime - eat_time) - order_time - cook_time\n",
    "max_wait"
   ]
  },
  {
   "cell_type": "code",
   "execution_count": 93,
   "id": "2c7512bc",
   "metadata": {},
   "outputs": [
    {
     "data": {
      "text/plain": [
       "0.6914624612740131"
      ]
     },
     "execution_count": 93,
     "metadata": {},
     "output_type": "execute_result"
    }
   ],
   "source": [
    "stats.norm(avg_cust, sd_cust).cdf(max_wait)"
   ]
  },
  {
   "cell_type": "code",
   "execution_count": null,
   "id": "c3dfdebb",
   "metadata": {},
   "outputs": [],
   "source": [
    "# use people instead of time\n",
    "avg_cust2 = 15\n",
    "sd_cust2 = 3\n",
    "wait_time = 33\n",
    "\n",
    "stats.norm(avg_cust2, sd_cust2).cdf(16.5)"
   ]
  },
  {
   "cell_type": "code",
   "execution_count": 94,
   "id": "c36f2f9e",
   "metadata": {},
   "outputs": [],
   "source": [
    "# 7. Connect to the employees database and find the average salary of current employees, \n",
    "# along with the standard deviation. For the following questions, calculate the answer based on \n",
    "# modeling the employees salaries with a normal distribution defined by the calculated mean and standard deviation \n",
    "# then compare this answer to the actual values present in the salaries dataset.\n",
    "\n"
   ]
  },
  {
   "cell_type": "code",
   "execution_count": 95,
   "id": "205078df",
   "metadata": {},
   "outputs": [],
   "source": [
    "employee_sal = pd.read_sql(\"select e.emp_no, s.salary from employees as e join salaries as s on s.emp_no = e.emp_no where s.to_date > curdate()\",env.get_db_url(\"employees\"))"
   ]
  },
  {
   "cell_type": "code",
   "execution_count": 96,
   "id": "c885f721",
   "metadata": {},
   "outputs": [],
   "source": [
    "sd_sal = employee_sal.std()\n",
    "sd_sal = sd_sal[1]\n",
    "avg_sal = employee_sal.mean()\n",
    "avg_sal = avg_sal[1]"
   ]
  },
  {
   "cell_type": "code",
   "execution_count": null,
   "id": "34258e58",
   "metadata": {},
   "outputs": [],
   "source": [
    "# What percent of employees earn less than 60,000? 0.24"
   ]
  },
  {
   "cell_type": "code",
   "execution_count": 97,
   "id": "8d70ccce",
   "metadata": {},
   "outputs": [
    {
     "data": {
      "text/plain": [
       "0.24385742480214434"
      ]
     },
     "execution_count": 97,
     "metadata": {},
     "output_type": "execute_result"
    }
   ],
   "source": [
    "stats.norm(avg_sal, sd_sal).cdf(60_000)"
   ]
  },
  {
   "cell_type": "code",
   "execution_count": 98,
   "id": "265b6e4b",
   "metadata": {},
   "outputs": [],
   "source": [
    "# What percent of employees earn more than 95,000? 0.09"
   ]
  },
  {
   "cell_type": "code",
   "execution_count": 100,
   "id": "6a1f6dce",
   "metadata": {},
   "outputs": [
    {
     "data": {
      "text/plain": [
       "0.09208819199804058"
      ]
     },
     "execution_count": 100,
     "metadata": {},
     "output_type": "execute_result"
    }
   ],
   "source": [
    "stats.norm(avg_sal, sd_sal).sf(95_000)"
   ]
  },
  {
   "cell_type": "code",
   "execution_count": null,
   "id": "03f35e53",
   "metadata": {},
   "outputs": [],
   "source": [
    "# What percent of employees earn between 65,000 and 80,000? 0.33"
   ]
  },
  {
   "cell_type": "code",
   "execution_count": 101,
   "id": "a9121301",
   "metadata": {},
   "outputs": [
    {
     "data": {
      "text/plain": [
       "0.33506056854466654"
      ]
     },
     "execution_count": 101,
     "metadata": {},
     "output_type": "execute_result"
    }
   ],
   "source": [
    "(stats.norm(avg_sal, sd_sal).cdf(80_000)) - (stats.norm(avg_sal, sd_sal).cdf(65_000))"
   ]
  },
  {
   "cell_type": "code",
   "execution_count": 102,
   "id": "8a91ea8e",
   "metadata": {},
   "outputs": [
    {
     "data": {
      "text/plain": [
       "array([0.33506057])"
      ]
     },
     "execution_count": 102,
     "metadata": {},
     "output_type": "execute_result"
    }
   ],
   "source": [
    "np.diff(stats.norm(avg_sal, sd_sal).cdf([65_000, 80_000]))"
   ]
  },
  {
   "cell_type": "code",
   "execution_count": 104,
   "id": "24a7b024",
   "metadata": {},
   "outputs": [
    {
     "data": {
      "text/plain": [
       "0.3350605685446666"
      ]
     },
     "execution_count": 104,
     "metadata": {},
     "output_type": "execute_result"
    }
   ],
   "source": [
    "(1 - stats.norm(avg_sal, sd_sal).cdf(65000)) - (stats.norm(avg_sal, sd_sal).sf(80_000))"
   ]
  },
  {
   "cell_type": "code",
   "execution_count": 103,
   "id": "d40e469b",
   "metadata": {},
   "outputs": [],
   "source": [
    "# What do the top 5% of employees make? 100484.64"
   ]
  },
  {
   "cell_type": "code",
   "execution_count": 105,
   "id": "d5ecf414",
   "metadata": {},
   "outputs": [
    {
     "data": {
      "text/plain": [
       "100484.64454102777"
      ]
     },
     "execution_count": 105,
     "metadata": {},
     "output_type": "execute_result"
    }
   ],
   "source": [
    "stats.norm(avg_sal, sd_sal).isf(0.05)"
   ]
  }
 ],
 "metadata": {
  "kernelspec": {
   "display_name": "Python 3 (ipykernel)",
   "language": "python",
   "name": "python3"
  },
  "language_info": {
   "codemirror_mode": {
    "name": "ipython",
    "version": 3
   },
   "file_extension": ".py",
   "mimetype": "text/x-python",
   "name": "python",
   "nbconvert_exporter": "python",
   "pygments_lexer": "ipython3",
   "version": "3.9.13"
  }
 },
 "nbformat": 4,
 "nbformat_minor": 5
}
